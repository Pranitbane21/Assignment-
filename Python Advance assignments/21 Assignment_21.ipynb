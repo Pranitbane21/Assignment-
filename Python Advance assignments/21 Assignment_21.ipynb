{
 "cells": [
  {
   "cell_type": "markdown",
   "id": "a3dba9d1",
   "metadata": {},
   "source": [
    "1. What is a probability distribution, exactly? If the values are meant to be random, how can you predict them at all ?\n",
    "__Ans__: A probability distribution describes how a random variable is distributed.\n",
    "\n",
    "It tells us which values a random variable is most likely to take on and which values are less likely. Based on the previous data and the occurences of the random event, we can predict the outcome in terms of probabilities."
   ]
  },
  {
   "cell_type": "markdown",
   "id": "c05db3dc",
   "metadata": {},
   "source": [
    "2. Is there a distinction between true random numbers and pseudo-random numbers, if there is one? Why are the latter considered “good enough”?\n",
    "\n",
    "__Ans__: : True Random Numbers are true physical values while pseudo-random numbers are generated internally by a program . Latter is considered good enough as they have sort of uniform distribution."
   ]
  },
  {
   "cell_type": "markdown",
   "id": "b2d55d63",
   "metadata": {},
   "source": [
    "3. What are the two main factors that influence the behaviour of a \"normal\" probability distribution ?\n",
    "\n",
    "__Ans__: Normal Probability Distribution are influenced by two factors mean and the variance."
   ]
  },
  {
   "cell_type": "markdown",
   "id": "a35dd4cb",
   "metadata": {},
   "source": [
    "4. Provide a real-life example of a normal distribution ?\n",
    "\n",
    "__Ans__: A Real-life example of a normal distribution are heights or blood pressure measurements"
   ]
  },
  {
   "cell_type": "markdown",
   "id": "094259ed",
   "metadata": {},
   "source": [
    "Q5. In the short term, how can you expect a probability distribution to behave? What do you think will happen as the number of trials grows ?\n",
    "\n",
    "__Ans__: Variance will decrease with number of trials"
   ]
  },
  {
   "cell_type": "markdown",
   "id": "815a4d90",
   "metadata": {},
   "source": [
    "6. What kind of object can be shuffled by using random.shuffle ?\n",
    "\n",
    "__Ans__: lists (list), strings (str) and tuples (tuple) objects can be shuffled by using random.shuffle."
   ]
  },
  {
   "cell_type": "markdown",
   "id": "ed4e6e86",
   "metadata": {},
   "source": [
    "Q7. Describe the math package's general categories of functions ?\n",
    "\n",
    "__Ans__: The Math package's general categories of functions are:\n",
    "\n",
    "Trigonometric functions\n",
    "\n",
    "Quadratic functions\n",
    "\n",
    "Exponential functions\n",
    "\n",
    "Hyperbolic functions\n",
    "\n",
    "Periodic functions\n",
    "\n",
    "Arithmetic functions\n",
    "\n",
    "Logarithimic functions\n",
    "\n",
    "Conversions to Integer"
   ]
  },
  {
   "cell_type": "markdown",
   "id": "6320b8e1",
   "metadata": {},
   "source": [
    "8. What is the relationship between exponentiation and logarithms ?\n",
    "\n",
    "__Ans__: Exponentiation and logarithms are inverse of each other.\n"
   ]
  },
  {
   "cell_type": "markdown",
   "id": "42875e78",
   "metadata": {},
   "source": [
    "9. What are the three logarithmic functions that Python supports ?\n",
    "\n",
    "__Ans__: The Three Logarithmic Functions that Python supports are:\n",
    "\n",
    "log2(x) - logarithmic value of x to base 2\n",
    "\n",
    "log10(x) - logarithmic value of x to base 10\n",
    "\n",
    "log1p(a) - This function is used to compute logarithm(1+a) ."
   ]
  },
  {
   "cell_type": "code",
   "execution_count": null,
   "id": "6f8324da",
   "metadata": {},
   "outputs": [],
   "source": []
  }
 ],
 "metadata": {
  "kernelspec": {
   "display_name": "Python 3 (ipykernel)",
   "language": "python",
   "name": "python3"
  },
  "language_info": {
   "codemirror_mode": {
    "name": "ipython",
    "version": 3
   },
   "file_extension": ".py",
   "mimetype": "text/x-python",
   "name": "python",
   "nbconvert_exporter": "python",
   "pygments_lexer": "ipython3",
   "version": "3.9.12"
  }
 },
 "nbformat": 4,
 "nbformat_minor": 5
}
