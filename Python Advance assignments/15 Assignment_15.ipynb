{
 "cells": [
  {
   "cell_type": "markdown",
   "id": "714719fb",
   "metadata": {},
   "source": [
    "1. What are the new features added in Python 3.8 version?\n",
    "\n",
    "__Ans__: Some New Features Added in Python 3.8 Version are:\n",
    "\n",
    "Walrus Operator: This operator is used to assign and return a value in the same expression. This removes the need for initializing the variable upfront. The major benefit of this is it saves some lines of code. It is also known as __The Walrus Operator__ due to its similarity to the eyes and tusks of a walrus.\n",
    "\n",
    "__yield__ and __return__ statements do not require parentheses to return multiple values.\n",
    "\n",
    "Reversed works with a dictionary. The built-in method __reversed()__ can be used for accessing the elements in the reverse order of insertion\n",
    "\n",
    "__Dict comprehensions__ have been modified so that the key is computed first and the value second.\n",
    "\n",
    "importlib_metadata is a new library added in the Python’s standard utility modules, that provides an API for accessing an installed package’s metadata, such as its entry points or its top-level name.\n",
    "\n",
    "f-strings now support __=__, to make string interpolation easy. Python 3.8 allows the use of the above-discussed assignment operator and equal sign (=) inside the f-strings.\n",
    "\n",
    "In the three-argument form of __pow()__, when the exponent is -1, it calculates the modular multiplicative inverse of the given value\n",
    "\n",
    "The __csv.DictReader__ now returns instances of dictionary instead of a __collections.OrderedDict__.\n",
    "\n",
    "If you miss a comma in your code such as a = [(1, 2) (3, 4)], instead of throwing TypeError, it displays an informative Syntax warning."
   ]
  },
  {
   "cell_type": "code",
   "execution_count": null,
   "id": "f25dc0d1",
   "metadata": {},
   "outputs": [],
   "source": [
    "# Example of Walrus Operator\n",
    "if (sum := 10 + 5) > 10: # its always recommended to use paranthesis with walrus operator\n",
    "    print(sum) #return 15 \n",
    "\n",
    "# Example of yield and return\n",
    "def hello():\n",
    "    return 'Hello','Good Morning'\n",
    "print(hello())\n",
    "def count():\n",
    "    for i in range(5):\n",
    "        yield i,i**2\n",
    "for ele in count():\n",
    "    print(ele, end=\" \")\n",
    "print()\n",
    "    \n",
    "# Example of Reversed Support for dict\n",
    "t_dict = {\"Name\":\"Mano Vishnu\",\"Role\":\"Data Scientist\"}\n",
    "for ele in reversed(t_dict):\n",
    "    print(f'{ele}:\"{t_dict[ele]}\"')\n",
    "    \n",
    "# Example of using = in F-strings\n",
    "len_string = len(\"Ineuron Full Stack Data Science\")\n",
    "print(f'The length of string is {len_string = }')\n",
    "\n",
    "# Example of Infomrative syntax instead of synatx error while missing comma.\n",
    "r_list = [(1,2) (3,4)]"
   ]
  },
  {
   "cell_type": "markdown",
   "id": "45fa29bc",
   "metadata": {},
   "source": [
    "2. What is monkey patching in Python?\n",
    "\n",
    "__Ans__: In Python, the term monkey patch refers to making dynamic (or run-time) modifications to a class or module. In Python, we can actually change the behavior of code at run-time."
   ]
  },
  {
   "cell_type": "code",
   "execution_count": 3,
   "id": "fbebd43d",
   "metadata": {},
   "outputs": [
    {
     "name": "stdout",
     "output_type": "stream",
     "text": [
      "monkey_f() is being called\n"
     ]
    }
   ],
   "source": [
    "class A:\n",
    "    def func(self):\n",
    "        print(\"func() is being called\")\n",
    "\n",
    "def monkey_f(self):\n",
    "    print(\"monkey_f() is being called\")\n",
    "\n",
    "A.func = monkey_f\n",
    "some_object = A()\n",
    "some_object.func()"
   ]
  },
  {
   "cell_type": "markdown",
   "id": "c4ca39b1",
   "metadata": {},
   "source": [
    "3. What is the difference between a shallow copy and deep copy?\n",
    "\n",
    "__Ans__: The Differences between a Shallow Copy and deep copy are as follows:\n",
    "\n",
    "When an object is copied using __copy()__, it is called __shallow copy__ as changes made in copied object will also make corresponding changes in original object, because both the objects will be referencing same address location.\n",
    "\n",
    "When an object is copied using __deepcopy()__, it is called __deep copy__ as changes made in copied object will not make corresponding changes in original object, because both the objects will not be referencing same address location."
   ]
  },
  {
   "cell_type": "code",
   "execution_count": 2,
   "id": "9ecf5299",
   "metadata": {},
   "outputs": [
    {
     "name": "stdout",
     "output_type": "stream",
     "text": [
      "Original Elements of each List\n",
      "[1, 2, [3, 4], 5, 6]\n",
      "[1, 2, [3, 4], 5, 6]\n",
      "[1, 2, [3, 4], 5, 6]\n",
      "New Elements of each List\n",
      "[1, 2, [3, 4], 5, 20]\n",
      "[10, 2, [3, 4], 5, 6]\n",
      "[1, 2, [3, 4], 5, 20]\n"
     ]
    }
   ],
   "source": [
    "from copy import deepcopy, copy\n",
    "l_one = [1,2,[3,4],5,6]\n",
    "l_two = deepcopy(l_one)\n",
    "l_three = l_one\n",
    "print(f'Original Elements of each List\\n{l_one}\\n{l_two}\\n{l_three}')\n",
    "l_two[0] = 10\n",
    "l_three[-1] = 20\n",
    "print(f'New Elements of each List\\n{l_one}\\n{l_two}\\n{l_three}')"
   ]
  },
  {
   "cell_type": "markdown",
   "id": "ac09137c",
   "metadata": {},
   "source": [
    "4. What is the maximum possible length of an identifier?\n",
    "\n",
    "__Ans__: In Python, the highest possible length of an identifier is 79 characters. Python is a high level programming language. It’s also a complex form and a collector of waste.\n",
    "\n",
    "Python, particularly when combined with identifiers, is case-sensitive.\n",
    "\n",
    "When writing or using identifiers in Python, it has a maximum of 79 characters.\n",
    "\n",
    "Unlikely, Python gives the identifiers unlimited length.\n",
    "\n",
    "However, the layout of PEP-8 prevents the user from breaking the rules and includes a 79-character limit."
   ]
  },
  {
   "cell_type": "markdown",
   "id": "64aef2be",
   "metadata": {},
   "source": [
    "5. What is generator comprehension?\n",
    "\n",
    "__Ans__: A generator comprehension is a single-line specification for defining a generator in Python.\n",
    "\n",
    "It is absolutely essential to learn this syntax in order to write simple and readable code.\n",
    "Generator comprehension uses round bracket unlike square bracket in list comprehension.\n",
    "The generator yields one item at a time and generates item only when in demand. Whereas, in a list comprehension, Python reserves memory for the whole list. Thus we can say that the generator expressions are memory efficient than the lists."
   ]
  },
  {
   "cell_type": "code",
   "execution_count": 1,
   "id": "777142f9",
   "metadata": {},
   "outputs": [
    {
     "name": "stdout",
     "output_type": "stream",
     "text": [
      "[0, 1, 2, 3, 4, 5, 6, 7, 8, 9]\n",
      "<generator object <genexpr> at 0x000002168A46B580>\n",
      "0 2 4 6 8 "
     ]
    }
   ],
   "source": [
    "in_list = [x for x in range(10)] # List Comprehension\n",
    "print(in_list)\n",
    "out_gen = (x for x in in_list if x%2 == 0) # Generator Comprehension\n",
    "print(out_gen) # Returns a Generator Object\n",
    "for ele in out_gen:\n",
    "    print(ele, end=\" \")"
   ]
  },
  {
   "cell_type": "code",
   "execution_count": null,
   "id": "bd28db39",
   "metadata": {},
   "outputs": [],
   "source": []
  }
 ],
 "metadata": {
  "kernelspec": {
   "display_name": "Python 3 (ipykernel)",
   "language": "python",
   "name": "python3"
  },
  "language_info": {
   "codemirror_mode": {
    "name": "ipython",
    "version": 3
   },
   "file_extension": ".py",
   "mimetype": "text/x-python",
   "name": "python",
   "nbconvert_exporter": "python",
   "pygments_lexer": "ipython3",
   "version": "3.9.12"
  }
 },
 "nbformat": 4,
 "nbformat_minor": 5
}
