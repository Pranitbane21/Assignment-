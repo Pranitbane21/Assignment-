{
 "cells": [
  {
   "cell_type": "markdown",
   "id": "daaa4cff",
   "metadata": {},
   "source": [
    "1. What are escape characters, and how do you use them?\n",
    "\n",
    "__Ans__.\n",
    "- Consider a string \"My name is \"Pranit\"\". This string will cause an error since we have already started the string in       double quotes.\n",
    "- One way to fix it is by using a combination of single and double quotes.\n",
    "- Something like this \"My name is 'Pranit'\". But it doesn't solve our problem completely since we can have something like 'It's python code'.\n",
    "- To solve above problems we can use something called as escape characters.Above string can be written as follows using       escape characters\n",
    "\n",
    "  'It\\'s Python code.'\n"
   ]
  },
  {
   "cell_type": "markdown",
   "id": "c63b925d",
   "metadata": {},
   "source": [
    "2. What do the escape characters n and t stand for?\n",
    "\n",
    "__Ans__.\n",
    "- \\n is a newline; \\t is a tab.\n",
    "\n",
    "---"
   ]
  },
  {
   "cell_type": "markdown",
   "id": "865f75c4",
   "metadata": {},
   "source": [
    "3. What is the way to include backslash characters in a string?\n",
    "\n",
    "__Ans__.\n",
    "- The \\\\\\ escape character will represent a backslash character.\n",
    "\n",
    "---"
   ]
  },
  {
   "cell_type": "markdown",
   "id": "cc06c75d",
   "metadata": {},
   "source": [
    "4. The string &quot;Howl&#39;s Moving Castle&quot; is a correct value. Why isn&#39;t the single quote character in the\n",
    "   word Howl&#39;s not escaped a problem?\n",
    "   \n",
    "__Ans__.\n",
    "- The single quote in Howl's is fine because you’ve used double quotes to mark the beginning and end of the string.\n",
    "\n",
    "---\n",
    "\n"
   ]
  },
  {
   "cell_type": "markdown",
   "id": "7a3d9d52",
   "metadata": {},
   "source": [
    "5. How do you write a string of newlines if you don&#39;t want to use the n character?\n",
    "\n",
    "__Ans__.\n",
    "- Multiline strings allow you to use newlines in strings without the \\n escape character.\n",
    "\n",
    "---"
   ]
  },
  {
   "cell_type": "markdown",
   "id": "14453b02",
   "metadata": {},
   "source": [
    "6. What are the values of the given expressions?\n",
    "   \n",
    "   &#39;Hello, world!&#39;[1]\n",
    "   \n",
    "   &#39;Hello, world!&#39;[0:5]\n",
    "   \n",
    "   &#39;Hello, world!&#39;[:5]\n",
    "   \n",
    "   &#39;Hello, world!&#39;[3:]\n",
    "\n",
    "__Ans__.\n",
    "- 'e'\n",
    "\n",
    "- 'Hello'\n",
    "\n",
    "- 'Hello'\n",
    "\n",
    "- 'lo world!\n",
    "\n",
    "---\n",
    "\n"
   ]
  },
  {
   "cell_type": "markdown",
   "id": "d8ad0259",
   "metadata": {},
   "source": [
    "7. What are the values of the following expressions?\n",
    "   \n",
    "   &#39;Hello&#39;.upper()\n",
    "   \n",
    "   &#39;Hello&#39;.upper().isupper()\n",
    "   \n",
    "   &#39;Hello&#39;.upper().lower()\n",
    "   \n",
    "__Ans__.\n",
    "- 'HELLO'\n",
    "\n",
    "   True\n",
    "\n",
    "  'hello'\n",
    "\n",
    "---"
   ]
  },
  {
   "cell_type": "markdown",
   "id": "eef987bf",
   "metadata": {},
   "source": [
    "8. What are the values of the following expressions?\n",
    "   \n",
    "   &#39;Remember, remember, the fifth of July.&#39;.split()\n",
    "   \n",
    "   &#39;-&#39;.join(&#39;There can only one.&#39;.split())\n",
    "\n",
    "__Ans__.\n",
    "- ['Remember,', 'remember,', 'the', 'fifth', 'of', 'November.']\n",
    "\n",
    "- 'There-can-be-only-one.'\n",
    "\n",
    "---\n",
    "\n"
   ]
  },
  {
   "cell_type": "markdown",
   "id": "b0b3280c",
   "metadata": {},
   "source": [
    "9. What are the methods for right-justifying, left-justifying, and centering a string?\n",
    "\n",
    "__Ans__.\n",
    "- The rjust(), ljust(), and center() string methods, respectively.\n",
    "\n",
    "---"
   ]
  },
  {
   "cell_type": "markdown",
   "id": "d948148d",
   "metadata": {},
   "source": [
    "10. What is the best way to remove whitespace characters from the start or end?\n",
    "\n",
    "__Ans__.\n",
    "- The lstrip() and rstrip() methods remove whitespace from the left and right ends of a string, respectively.\n",
    "\n",
    "---"
   ]
  },
  {
   "cell_type": "code",
   "execution_count": null,
   "id": "2fccbd21",
   "metadata": {},
   "outputs": [],
   "source": []
  }
 ],
 "metadata": {
  "kernelspec": {
   "display_name": "Python 3 (ipykernel)",
   "language": "python",
   "name": "python3"
  },
  "language_info": {
   "codemirror_mode": {
    "name": "ipython",
    "version": 3
   },
   "file_extension": ".py",
   "mimetype": "text/x-python",
   "name": "python",
   "nbconvert_exporter": "python",
   "pygments_lexer": "ipython3",
   "version": "3.9.7"
  }
 },
 "nbformat": 4,
 "nbformat_minor": 5
}
