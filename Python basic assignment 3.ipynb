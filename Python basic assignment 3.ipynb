{
 "cells": [
  {
   "cell_type": "markdown",
   "id": "4be4b970",
   "metadata": {},
   "source": [
    "1. Why are functions advantageous to have in your programs?\n",
    "\n",
    "__Ans__\n",
    "- Functions reduces the need for programmer to duplicate the code . this makes program easy to use, any very convinent for         others to use as well, easier to update.\n",
    "---"
   ]
  },
  {
   "cell_type": "markdown",
   "id": "75aa475e",
   "metadata": {},
   "source": [
    "2. When does the code in a function run: when it's specified or when it's called?\n",
    "\n",
    "__Ans__\n",
    "- Code in a function run when it is called.\n",
    "---"
   ]
  },
  {
   "cell_type": "markdown",
   "id": "d6c7fc50",
   "metadata": {},
   "source": [
    "3. What statement creates a function?\n",
    "\n",
    "__Ans__ \n",
    "- def  statement and name of the function and colon  creates a function, for ex:- def circle:\n",
    "---"
   ]
  },
  {
   "cell_type": "markdown",
   "id": "362aaa1b",
   "metadata": {},
   "source": [
    "4. What is the difference between a function and a function call?\n",
    "\n",
    "__Ans__. \n",
    "- The difference between the function and function call is, A function is procedure to achieve a particular result while           function call is using this function to achive that task.\n",
    "---"
   ]
  },
  {
   "cell_type": "markdown",
   "id": "b29e48a7",
   "metadata": {},
   "source": [
    "5. How many global scopes are there in a Python program? How many local scopes?\n",
    "\n",
    "__Ans__. \n",
    "- There can be only one global scope and there are \"n\" number of local scopes as the requirement.\n",
    "---"
   ]
  },
  {
   "cell_type": "markdown",
   "id": "d1afd80e",
   "metadata": {},
   "source": [
    "6. What happens to variables in a local scope when the function call returns?\n",
    "\n",
    "__ANS__. \n",
    "- A local variable retains its value until the next time the function is called A local variable becomes undefined after the function call completes The local variable can be used outside the function any time after the function call completes.\n",
    "---"
   ]
  },
  {
   "cell_type": "markdown",
   "id": "b28c24c8",
   "metadata": {},
   "source": [
    "7. What is the concept of a return value? Is it possible to have a return value in an expression?\n",
    "\n",
    "__Ans__. \n",
    "- A return statement is used to end the execution of the function call and “returns” the result (value of the expression following the return keyword) to the caller. Yes , it is possible to have a return value in an expression.\n",
    "---"
   ]
  },
  {
   "cell_type": "markdown",
   "id": "a42ee562",
   "metadata": {},
   "source": [
    "8. If a function does not have a return statement, what is the return value of a call to that function?\n",
    "\n",
    "__Ans__\n",
    "- If a function does not have a return statement, then return value of a call to that fuction is \"None\".\n",
    "---"
   ]
  },
  {
   "cell_type": "markdown",
   "id": "b688d3ae",
   "metadata": {},
   "source": [
    "9. How do you make a function variable refer to the global variable?\n",
    "\n",
    "__Ans__\n",
    "- We use the global keyword refer which variable is global .\n",
    "---"
   ]
  },
  {
   "cell_type": "markdown",
   "id": "426dec0f",
   "metadata": {},
   "source": [
    "10. What is the data type of None?\n",
    "\n",
    "__Ans__\n",
    "- None is use to define null value. it is a data type of the class NoneType object.\n",
    "---"
   ]
  },
  {
   "cell_type": "markdown",
   "id": "4b47f556",
   "metadata": {},
   "source": [
    "11. What does the sentence import areallyourpetsnamederic do?\n",
    "\n",
    "__Ans__\n",
    "- That import statement imports a module named areallyourpetsnamederic. this isn’t a real Python module.\n",
    "---"
   ]
  },
  {
   "cell_type": "markdown",
   "id": "781ec0f3",
   "metadata": {},
   "source": [
    "12. If you had a bacon() feature in a spam module, what would you call it after importing spam?\n",
    "\n",
    "__Ans__\n",
    "- This function can be call with spam.bacon()\n",
    "---"
   ]
  },
  {
   "cell_type": "markdown",
   "id": "75ec5573",
   "metadata": {},
   "source": [
    "13. What can you do to save a programme from crashing if it encounters an error?\n",
    "\n",
    "__Ans__\n",
    "-We can place the line of code that might cause an error in a try clause.\n",
    "\n",
    "---"
   ]
  },
  {
   "cell_type": "markdown",
   "id": "03f3a70e",
   "metadata": {},
   "source": [
    "14. What is the purpose of the try clause? What is the purpose of the except clause?\n",
    "\n",
    "__Ans__\n",
    "- The code that could potentially cause an error goes in the try clause.\n",
    " \n",
    "- The code that executes if an error happens goes in the except clause.\n",
    "---"
   ]
  },
  {
   "cell_type": "code",
   "execution_count": null,
   "id": "8e155720",
   "metadata": {},
   "outputs": [],
   "source": []
  }
 ],
 "metadata": {
  "kernelspec": {
   "display_name": "Python 3 (ipykernel)",
   "language": "python",
   "name": "python3"
  },
  "language_info": {
   "codemirror_mode": {
    "name": "ipython",
    "version": 3
   },
   "file_extension": ".py",
   "mimetype": "text/x-python",
   "name": "python",
   "nbconvert_exporter": "python",
   "pygments_lexer": "ipython3",
   "version": "3.9.7"
  }
 },
 "nbformat": 4,
 "nbformat_minor": 5
}
