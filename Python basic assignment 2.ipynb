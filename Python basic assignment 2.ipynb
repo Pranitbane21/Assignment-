{
 "cells": [
  {
   "cell_type": "markdown",
   "id": "849ef308",
   "metadata": {},
   "source": [
    "1. What are the two values of the Boolean data type? How do you write them?\n",
    "\n",
    "__Ans__ - Two boolean data type values are True And False.\n",
    "\n",
    "1. If the Statement or condition  is true, it print True or excute the statement as per the given circumstances.\n",
    "2. If the statement or condition is False, it print False or execute the statement as per the given circumstances.\n",
    "\n",
    "---"
   ]
  },
  {
   "cell_type": "markdown",
   "id": "a981db54",
   "metadata": {},
   "source": [
    "2. What are the three different types of Boolean operators?\n",
    "\n",
    "__Ans__ - Three different typees of boolean operators are And, OR and NOT.\n",
    "\n",
    "---"
   ]
  },
  {
   "cell_type": "markdown",
   "id": "c25bbf3f",
   "metadata": {},
   "source": [
    "3. Make a list of each Boolean operator's truth tables (i.e. every possible combination of Boolean\n",
    "values for the operator and what it evaluate ).\n",
    "\n",
    "__Ans__ \n",
    "- AND operator Truth table:-\n",
    "\n",
    "| A | B | C |\n",
    "|---|----|---|\n",
    "| True | True | True|\n",
    "| False | True | False |\n",
    "| True | False | False |\n",
    "| False | False | True |\n",
    " \n",
    "\n",
    "- OR Operator Truth table:-\n",
    "| A | B | C |\n",
    "|---|---|---| \n",
    "| True  | True  |  True |\n",
    "| False | True  |  True |\n",
    "| True  | False |  True |\n",
    "| False | False |  False|\n",
    " \n",
    "\n",
    "- Not operator Truth table:-\n",
    "| A    |  C   |\n",
    "|---|---|\n",
    "|True  | False|\n",
    "|False |  True|\n",
    "\n",
    "---"
   ]
  },
  {
   "cell_type": "markdown",
   "id": "386d4072",
   "metadata": {},
   "source": [
    "4. What are the values of the following expressions? a)(5 > 4) and (3 == 5) b)not (5 > 4) c)(5 > 4) or (3 == 5) d)not ((5 > 4) or (3 == 5)) e)(True and True) and (True == False) f)(not False) or (not True)\n",
    "\n",
    "__Ans__\n",
    "1. False\n",
    "2. False\n",
    "3. True\n",
    "4. False\n",
    "5. False\n",
    "6. True\n",
    "\n",
    "---"
   ]
  },
  {
   "cell_type": "markdown",
   "id": "9025fba9",
   "metadata": {},
   "source": [
    "5. What are the six comparison operators?\n",
    "\n",
    "__Ans__ \n",
    "  \n",
    "  | symbol| explanation |\n",
    "  |---|---|\n",
    "  | == |   is equal to.|\n",
    "  |!=  | not equal to. |\n",
    "  | <  | less than. |\n",
    "  | <= |  less than or equal to.| \n",
    "  |  >  |  greater than. |\n",
    "  |  >=  | greater than or equal to. |\n",
    "     \n",
    "---\n",
    "     "
   ]
  },
  {
   "cell_type": "markdown",
   "id": "68d7695a",
   "metadata": {},
   "source": [
    "6. How do you tell the difference between the equal to and assignment operators?Describe a condition and when you would use one.\n",
    "\n",
    "__Ans__ == is the equal operator to operator that compares two values and evaluates to a Boolean, while = is the assignment operator that stores a value in a variable.\n",
    "\n",
    "---"
   ]
  },
  {
   "cell_type": "markdown",
   "id": "c46e4e7d",
   "metadata": {},
   "source": [
    "7.Identify the three blocks in this code:\n",
    "\n",
    "spam = 0\n",
    "\n",
    "if spam == 10:\n",
    "\n",
    "print('eggs')\n",
    "\n",
    "if spam > 5:\n",
    "\n",
    "print('bacon')\n",
    "\n",
    "else:\n",
    "\n",
    "print('ham')\n",
    "\n",
    "print('spam')\n",
    "\n",
    "print('spam')\n",
    "\n",
    "__Ans__\n",
    "\n",
    "the three blocks are everything inside the if statement and the lines print('bacon') and print('ham').\n",
    "print('eggs')\n",
    "if spam > 5:\n",
    "print('bacon')\n",
    "else:\n",
    "print('ham')\n",
    "print('spam')\n",
    "\n",
    "---"
   ]
  },
  {
   "cell_type": "markdown",
   "id": "71b19fa7",
   "metadata": {},
   "source": [
    "8. Write code that prints Hello if 1 is stored in spam, prints Howdy if 2 is stored in spam, and prints Greetings! if anything else is stored in spam."
   ]
  },
  {
   "cell_type": "code",
   "execution_count": 11,
   "id": "535b886b",
   "metadata": {},
   "outputs": [
    {
     "name": "stdout",
     "output_type": "stream",
     "text": [
      "Enter spam =1\n",
      "Hello\n"
     ]
    }
   ],
   "source": [
    "spam=int(input(\"Enter spam =\"))\n",
    "if spam==1 :\n",
    "    print(\"Hello\")\n",
    "elif spam==2 :\n",
    "    print(\"Howdy\")\n",
    "else :\n",
    "    print(\"Greetings\")"
   ]
  },
  {
   "cell_type": "markdown",
   "id": "e5411e2d",
   "metadata": {},
   "source": [
    "9.If your programme is stuck in an endless loop, what keys you’ll press?\n",
    "\n",
    "__Ans__ Ctrl+C\n",
    "\n",
    "---"
   ]
  },
  {
   "cell_type": "markdown",
   "id": "167ff073",
   "metadata": {},
   "source": [
    "10. How can you tell the difference between break and continue?\n",
    "\n",
    "__Ans__ \n",
    "1. break statement will move the execution outside the loop.\n",
    "2. continue statement will move the execution to the start of the loop.\n",
    "---"
   ]
  },
  {
   "cell_type": "markdown",
   "id": "94e57aad",
   "metadata": {},
   "source": [
    "11. In a for loop, what is the difference between range(10), range(0, 10), and range(0, 10, 1)?\n",
    "\n",
    "__Ans__\n",
    "- range(10):- the range will start from 0 to 9 exculding the upper bound 10.\n",
    "- range(0,10):- the range will start from 0 (which is justify in the start) to 9.\n",
    "- range(0,10,1):- the range will start from 0 to 9 , by taking one step in positive direction.\n",
    "\n",
    "---"
   ]
  },
  {
   "cell_type": "markdown",
   "id": "ac892576",
   "metadata": {},
   "source": [
    "12. Write a short program that prints the numbers 1 to 10 using a for loop. Then write an equivalent program that prints the numbers 1 to 10 using a while loop."
   ]
  },
  {
   "cell_type": "code",
   "execution_count": 9,
   "id": "d267c7d5",
   "metadata": {},
   "outputs": [
    {
     "name": "stdout",
     "output_type": "stream",
     "text": [
      "1\n",
      "2\n",
      "3\n",
      "4\n",
      "5\n",
      "6\n",
      "7\n",
      "8\n",
      "9\n",
      "10\n"
     ]
    }
   ],
   "source": [
    "for i in range(1,11):\n",
    "    print(i)"
   ]
  },
  {
   "cell_type": "code",
   "execution_count": 10,
   "id": "d14ec0cf",
   "metadata": {},
   "outputs": [
    {
     "name": "stdout",
     "output_type": "stream",
     "text": [
      "1\n",
      "2\n",
      "3\n",
      "4\n",
      "5\n",
      "6\n",
      "7\n",
      "8\n",
      "9\n",
      "10\n"
     ]
    }
   ],
   "source": [
    "a=1\n",
    "while a<11:\n",
    "    print(a)\n",
    "    a=a+1"
   ]
  },
  {
   "cell_type": "markdown",
   "id": "aaa2b8f8",
   "metadata": {},
   "source": [
    "13. If you had a function named bacon() inside a module named spam, how would you call it after importing spam?\n",
    "\n",
    "__Ans__  \n",
    "- This function can be call by spam.bacon().\n",
    "---"
   ]
  },
  {
   "cell_type": "raw",
   "id": "b6cf7bee",
   "metadata": {},
   "source": []
  }
 ],
 "metadata": {
  "kernelspec": {
   "display_name": "Python 3 (ipykernel)",
   "language": "python",
   "name": "python3"
  },
  "language_info": {
   "codemirror_mode": {
    "name": "ipython",
    "version": 3
   },
   "file_extension": ".py",
   "mimetype": "text/x-python",
   "name": "python",
   "nbconvert_exporter": "python",
   "pygments_lexer": "ipython3",
   "version": "3.9.7"
  }
 },
 "nbformat": 4,
 "nbformat_minor": 5
}
