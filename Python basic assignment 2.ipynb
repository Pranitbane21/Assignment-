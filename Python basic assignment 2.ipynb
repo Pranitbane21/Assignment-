{
 "cells": [
  {
   "cell_type": "raw",
   "id": "f0d2c44f",
   "metadata": {},
   "source": [
    "1.What are the two values of the Boolean data type? How do you write them?\n",
    "Ans) Two boolean data type values are True And False.\n",
    "a)If the Statement or condition  is true, it print True or excute the statement as per the given circumstances.\n",
    "b)If the statement or condition is False, it print False or execute the statement as per the given circumstances."
   ]
  },
  {
   "cell_type": "raw",
   "id": "e3968c79",
   "metadata": {},
   "source": [
    "2. What are the three different types of Boolean operators?\n",
    "Ans)Three different typees of boolean operators are And, OR and NOT."
   ]
  },
  {
   "cell_type": "raw",
   "id": "530d49fa",
   "metadata": {},
   "source": [
    "3. Make a list of each Boolean operator's truth tables (i.e. every possible combination of Boolean\n",
    "values for the operator and what it evaluate ).\n",
    "Ans)a) AND operator Truth table:-\n",
    " A      B       C\n",
    " True  True    True\n",
    " False True    False\n",
    " True  False   False\n",
    " False False   True\n",
    " \n",
    " b)OR Operator Truth table:-\n",
    " A      B       C\n",
    " True   True    True\n",
    " False  True    True\n",
    " True   False   True\n",
    " False  False   False\n",
    " \n",
    " c)Not operator Truth table:-\n",
    " A      C\n",
    " True   False\n",
    " False  True"
   ]
  },
  {
   "cell_type": "raw",
   "id": "1eb4a1ce",
   "metadata": {},
   "source": [
    "4. What are the values of the following expressions?\n",
    "a)(5 > 4) and (3 == 5)\n",
    "b)not (5 > 4)\n",
    "c)(5 > 4) or (3 == 5)\n",
    "d)not ((5 > 4) or (3 == 5))\n",
    "e)(True and True) and (True == False)\n",
    "f)(not False) or (not True)\n",
    "ANS) a)False\n",
    "     b)False\n",
    "     c)True\n",
    "     d)False\n",
    "     e)False\n",
    "     f)True"
   ]
  },
  {
   "cell_type": "raw",
   "id": "a8298c1f",
   "metadata": {},
   "source": [
    "5. What are the six comparison operators?\n",
    "ANS) ==   is equal to.\n",
    "     !=   not equal to.\n",
    "     <    less than.\n",
    "     <=   less than or equal to.\n",
    "     >    greater than.\n",
    "     >=   greater than or equal to.\n",
    "     "
   ]
  },
  {
   "cell_type": "raw",
   "id": "ffae6da6",
   "metadata": {},
   "source": [
    "6. How do you tell the difference between the equal to and assignment operators?Describe a\n",
    "condition and when you would use one.\n",
    "ANS) == is the equal operator to operator that compares two values and evaluates to a Boolean, while = is the assignment operator that stores a value in a variable."
   ]
  },
  {
   "cell_type": "raw",
   "id": "1d7d6c22",
   "metadata": {},
   "source": [
    "7. Identify the three blocks in this code:\n",
    "\n",
    "spam = 0\n",
    "\n",
    "if spam == 10:\n",
    "\n",
    "print('eggs')\n",
    "\n",
    "if spam > 5:\n",
    "\n",
    "print('bacon')\n",
    "\n",
    "else:\n",
    "\n",
    "print('ham')\n",
    "\n",
    "print('spam')\n",
    "\n",
    "print('spam')\n",
    "ANS)\n",
    "the three blocks are everything inside the if statement and the lines print('bacon') and print('ham').\n",
    "print('eggs')\n",
    "if spam > 5:\n",
    "print('bacon')\n",
    "else:\n",
    "print('ham')\n",
    "print('spam')\n"
   ]
  },
  {
   "cell_type": "raw",
   "id": "c1f90595",
   "metadata": {},
   "source": [
    "8. Write code that prints Hello if 1 is stored in spam, prints Howdy if 2 is stored in spam, and prints\n",
    "Greetings! if anything else is stored in spam."
   ]
  },
  {
   "cell_type": "code",
   "execution_count": 1,
   "id": "535b886b",
   "metadata": {},
   "outputs": [
    {
     "name": "stdout",
     "output_type": "stream",
     "text": [
      "Enter spam =\n"
     ]
    },
    {
     "ename": "ValueError",
     "evalue": "invalid literal for int() with base 10: ''",
     "output_type": "error",
     "traceback": [
      "\u001b[1;31m---------------------------------------------------------------------------\u001b[0m",
      "\u001b[1;31mValueError\u001b[0m                                Traceback (most recent call last)",
      "\u001b[1;32m~\\AppData\\Local\\Temp/ipykernel_22696/1007114787.py\u001b[0m in \u001b[0;36m<module>\u001b[1;34m\u001b[0m\n\u001b[1;32m----> 1\u001b[1;33m \u001b[0mspam\u001b[0m\u001b[1;33m=\u001b[0m\u001b[0mint\u001b[0m\u001b[1;33m(\u001b[0m\u001b[0minput\u001b[0m\u001b[1;33m(\u001b[0m\u001b[1;34m\"Enter spam =\"\u001b[0m\u001b[1;33m)\u001b[0m\u001b[1;33m)\u001b[0m\u001b[1;33m\u001b[0m\u001b[1;33m\u001b[0m\u001b[0m\n\u001b[0m\u001b[0;32m      2\u001b[0m \u001b[1;32mif\u001b[0m \u001b[0mspam\u001b[0m\u001b[1;33m==\u001b[0m\u001b[1;36m1\u001b[0m \u001b[1;33m:\u001b[0m\u001b[1;33m\u001b[0m\u001b[1;33m\u001b[0m\u001b[0m\n\u001b[0;32m      3\u001b[0m     \u001b[0mprint\u001b[0m\u001b[1;33m(\u001b[0m\u001b[1;34m\"Hello\"\u001b[0m\u001b[1;33m)\u001b[0m\u001b[1;33m\u001b[0m\u001b[1;33m\u001b[0m\u001b[0m\n\u001b[0;32m      4\u001b[0m \u001b[1;32melif\u001b[0m \u001b[0mspam\u001b[0m\u001b[1;33m==\u001b[0m\u001b[1;36m2\u001b[0m \u001b[1;33m:\u001b[0m\u001b[1;33m\u001b[0m\u001b[1;33m\u001b[0m\u001b[0m\n\u001b[0;32m      5\u001b[0m     \u001b[0mprint\u001b[0m\u001b[1;33m(\u001b[0m\u001b[1;34m\"Howdy\"\u001b[0m\u001b[1;33m)\u001b[0m\u001b[1;33m\u001b[0m\u001b[1;33m\u001b[0m\u001b[0m\n",
      "\u001b[1;31mValueError\u001b[0m: invalid literal for int() with base 10: ''"
     ]
    }
   ],
   "source": [
    "spam=int(input(\"Enter spam =\"))\n",
    "if spam==1 :\n",
    "    print(\"Hello\")\n",
    "elif spam==2 :\n",
    "    print(\"Howdy\")\n",
    "else :\n",
    "    print(\"Greetings\")"
   ]
  },
  {
   "cell_type": "raw",
   "id": "db33e969",
   "metadata": {},
   "source": [
    "9.If your programme is stuck in an endless loop, what keys you’ll press?\n",
    "Ans) Ctrl+C"
   ]
  },
  {
   "cell_type": "raw",
   "id": "735e60a6",
   "metadata": {},
   "source": [
    "10. How can you tell the difference between break and continue?\n",
    "Ans) break statement will move the execution outside the loop.\n",
    "     continue statement will move the execution to the start of the loop."
   ]
  },
  {
   "cell_type": "raw",
   "id": "2e14ec37",
   "metadata": {},
   "source": [
    "11. In a for loop, what is the difference between range(10), range(0, 10), and range(0, 10, 1)?\n",
    "Ans)range(10):- the range will start from 0 to 9 exculding the upper bound 10.\n",
    "range(0,10):- the range will start from 0 (which is justify in the start) to 9.\n",
    "range(0,10,1):- the range will start from 0 to 9 , by taking one step in positive direction."
   ]
  },
  {
   "cell_type": "raw",
   "id": "f340eeb4",
   "metadata": {},
   "source": [
    "12. Write a short program that prints the numbers 1 to 10 using a for loop. Then write an equivalent\n",
    "program that prints the numbers 1 to 10 using a while loop."
   ]
  },
  {
   "cell_type": "code",
   "execution_count": 2,
   "id": "d267c7d5",
   "metadata": {},
   "outputs": [
    {
     "name": "stdout",
     "output_type": "stream",
     "text": [
      "1\n",
      "2\n",
      "3\n",
      "4\n",
      "5\n",
      "6\n",
      "7\n",
      "8\n",
      "9\n",
      "10\n"
     ]
    }
   ],
   "source": [
    "for i in range(1,11):\n",
    "    print(i)"
   ]
  },
  {
   "cell_type": "code",
   "execution_count": 3,
   "id": "d14ec0cf",
   "metadata": {},
   "outputs": [
    {
     "name": "stdout",
     "output_type": "stream",
     "text": [
      "1\n",
      "2\n",
      "3\n",
      "4\n",
      "5\n",
      "6\n",
      "7\n",
      "8\n",
      "9\n",
      "10\n"
     ]
    }
   ],
   "source": [
    "a=1\n",
    "while a<11:\n",
    "    print(a)\n",
    "    a=a+1"
   ]
  },
  {
   "cell_type": "raw",
   "id": "90eb5455",
   "metadata": {},
   "source": [
    "13. If you had a function named bacon() inside a module named spam, how would you call it after\n",
    "importing spam?\n",
    "Ans) this function can be call by spam.bacon()."
   ]
  },
  {
   "cell_type": "raw",
   "id": "b6cf7bee",
   "metadata": {},
   "source": []
  }
 ],
 "metadata": {
  "kernelspec": {
   "display_name": "Python 3 (ipykernel)",
   "language": "python",
   "name": "python3"
  },
  "language_info": {
   "codemirror_mode": {
    "name": "ipython",
    "version": 3
   },
   "file_extension": ".py",
   "mimetype": "text/x-python",
   "name": "python",
   "nbconvert_exporter": "python",
   "pygments_lexer": "ipython3",
   "version": "3.9.7"
  }
 },
 "nbformat": 4,
 "nbformat_minor": 5
}
