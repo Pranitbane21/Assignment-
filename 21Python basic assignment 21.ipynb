{
 "cells": [
  {
   "cell_type": "markdown",
   "id": "f7ba8094",
   "metadata": {},
   "source": [
    "1. Add the current date to the text file today.txt as a string."
   ]
  },
  {
   "cell_type": "code",
   "execution_count": 1,
   "id": "cac2b77d",
   "metadata": {},
   "outputs": [
    {
     "name": "stdout",
     "output_type": "stream",
     "text": [
      "21-04-2022\n"
     ]
    }
   ],
   "source": [
    "import datetime\n",
    "file=open('today.txt','w')\n",
    "file.write(datetime.datetime.now().strftime(\"%d-%m-%Y\"))\n",
    "file.close()\n",
    "file=open('today.txt','r')\n",
    "print(file.read())\n",
    "file.close()"
   ]
  },
  {
   "cell_type": "markdown",
   "id": "52b5a892",
   "metadata": {},
   "source": [
    "2. Read the text file today.txt into the string today_string"
   ]
  },
  {
   "cell_type": "code",
   "execution_count": 2,
   "id": "730d6168",
   "metadata": {},
   "outputs": [
    {
     "name": "stdout",
     "output_type": "stream",
     "text": [
      "21-04-2022\n"
     ]
    }
   ],
   "source": [
    "file=open('today.txt',\"r\")\n",
    "today_string=file.read()\n",
    "print(today_string)"
   ]
  },
  {
   "cell_type": "markdown",
   "id": "a13f3234",
   "metadata": {},
   "source": [
    "3. Parse the date from today_string."
   ]
  },
  {
   "cell_type": "code",
   "execution_count": 11,
   "id": "b36a7a43",
   "metadata": {
    "scrolled": true
   },
   "outputs": [
    {
     "name": "stdout",
     "output_type": "stream",
     "text": [
      "2022-04-21 00:00:00\n"
     ]
    }
   ],
   "source": [
    "from datetime import datetime\n",
    "\n",
    "parse_date = datetime.strptime(today_string,\"%d-%m-%Y\")\n",
    "\n",
    "print(parse_date)"
   ]
  },
  {
   "cell_type": "markdown",
   "id": "9cb006a5",
   "metadata": {},
   "source": [
    "4. List the files in your current directory"
   ]
  },
  {
   "cell_type": "code",
   "execution_count": 13,
   "id": "fa0fecdd",
   "metadata": {},
   "outputs": [
    {
     "name": "stdout",
     "output_type": "stream",
     "text": [
      "18Python   basic assignment 18.ipynb\n",
      "19python assignment basic 19.ipynb\n",
      "20Python basic assignment 20.ipynb\n",
      "21Python basic assignment 21.ipynb\n",
      "bike.csv\n",
      "book.csv\n",
      "books.db\n",
      "Python  basic assignment 7.ipynb\n",
      "Python Basic assginment 4.ipynb\n",
      "Python basic assignment 1..ipynb\n",
      "Python basic assignment 14.ipynb\n",
      "Python basic assignment 15.ipynb\n",
      "Python basic assignment 16.ipynb\n",
      "Python basic assignment 17.ipynb\n",
      "Python basic assignment 2.ipynb\n",
      "Python basic assignment 3.ipynb\n",
      "Python basic assignment 5.ipynb\n",
      "Python Basic assignment 6.ipynb\n",
      "Python basic assignment 8 .ipynb\n",
      "test.text\n",
      "today.txt\n",
      "Yourname.jpg\n",
      "Yourname2.jpg\n",
      "zoo.py\n",
      "18Python   basic assignment 18-checkpoint.ipynb\n",
      "19python assignment basic 19-checkpoint.ipynb\n",
      "20Python basic assignment 20-checkpoint.ipynb\n",
      "21Python basic assignment 21-checkpoint.ipynb\n",
      "Python basic assignment 14-checkpoint.ipynb\n",
      "Python basic assignment 15-checkpoint.ipynb\n",
      "Python basic assignment 16-checkpoint.ipynb\n",
      "Python basic assignment 17-checkpoint.ipynb\n",
      "zoo.cpython-39.pyc\n"
     ]
    }
   ],
   "source": [
    "import os\n",
    "for folders,subfolders,files in os.walk(os.getcwd()):\n",
    "    for file in files:\n",
    "        print(file)"
   ]
  },
  {
   "cell_type": "markdown",
   "id": "6438b780",
   "metadata": {},
   "source": [
    "5. Create a list of all of the files in your parent directory (minimum five files should be available)."
   ]
  },
  {
   "cell_type": "code",
   "execution_count": 14,
   "id": "8528a297",
   "metadata": {},
   "outputs": [
    {
     "data": {
      "text/plain": [
       "['.ipynb_checkpoints',\n",
       " '18Python   basic assignment 18.ipynb',\n",
       " '19python assignment basic 19.ipynb',\n",
       " '20Python basic assignment 20.ipynb',\n",
       " '21Python basic assignment 21.ipynb',\n",
       " 'bike.csv',\n",
       " 'book.csv',\n",
       " 'books.db',\n",
       " 'Python  basic assignment 7.ipynb',\n",
       " 'Python Basic assginment 4.ipynb',\n",
       " 'Python basic assignment 1..ipynb',\n",
       " 'Python basic assignment 14.ipynb',\n",
       " 'Python basic assignment 15.ipynb',\n",
       " 'Python basic assignment 16.ipynb',\n",
       " 'Python basic assignment 17.ipynb',\n",
       " 'Python basic assignment 2.ipynb',\n",
       " 'Python basic assignment 3.ipynb',\n",
       " 'Python basic assignment 5.ipynb',\n",
       " 'Python Basic assignment 6.ipynb',\n",
       " 'Python basic assignment 8 .ipynb',\n",
       " 'test.text',\n",
       " 'today.txt',\n",
       " 'Yourname.jpg',\n",
       " 'Yourname2.jpg',\n",
       " 'zoo.py',\n",
       " '__pycache__']"
      ]
     },
     "execution_count": 14,
     "metadata": {},
     "output_type": "execute_result"
    }
   ],
   "source": [
    "import os \n",
    "os.listdir()"
   ]
  },
  {
   "cell_type": "markdown",
   "id": "baad508f",
   "metadata": {},
   "source": [
    "6. Use multiprocessing to create three separate processes. Make each one wait a random number of\n",
    "   seconds between one and five, print the current time, and then exit."
   ]
  },
  {
   "cell_type": "code",
   "execution_count": 19,
   "id": "f9afc6bf",
   "metadata": {},
   "outputs": [],
   "source": [
    "import multiprocessing\n",
    "import time \n",
    "import random\n",
    "import datetime\n",
    "\n",
    "def procOne():\n",
    "    print(f'Proc_one_Starttime -> {datetime.datetime.now()}')\n",
    "    time.sleep(random.randint(1,5))\n",
    "    print(f'Proc_one_Endtime -> {datetime.datetime.now()}')\n",
    "    \n",
    "def procTwo():\n",
    "    print(f'Proc_two_Starttime -> {datetime.datetime.now()}')\n",
    "    time.sleep(random.randint(1,5))\n",
    "    print(f'Proc_two_Endtime -> {datetime.datetime.now()}')\n",
    "\n",
    "def procThree():\n",
    "    print(f'Proc_two_Starttime -> {datetime.datetime.now()}')\n",
    "    time.sleep(random.randint(1,5))\n",
    "    print(f'Proc_two_Endtime -> {datetime.datetime.now()}')\n",
    "    \n",
    "if __name__ == \"__main__\":    \n",
    "    p1 = multiprocessing.Process(target=procOne)\n",
    "    p2 = multiprocessing.Process(target=procTwo)\n",
    "    p3 = multiprocessing.Process(target=procThree)\n",
    "\n",
    "    p1.start()\n",
    "    p2.start()\n",
    "    p3.start()\n",
    "\n",
    "    p1.join()\n",
    "    p2.join()\n",
    "    p3.join()"
   ]
  },
  {
   "cell_type": "code",
   "execution_count": null,
   "id": "19f6843a",
   "metadata": {},
   "outputs": [],
   "source": []
  }
 ],
 "metadata": {
  "kernelspec": {
   "display_name": "Python 3 (ipykernel)",
   "language": "python",
   "name": "python3"
  },
  "language_info": {
   "codemirror_mode": {
    "name": "ipython",
    "version": 3
   },
   "file_extension": ".py",
   "mimetype": "text/x-python",
   "name": "python",
   "nbconvert_exporter": "python",
   "pygments_lexer": "ipython3",
   "version": "3.9.7"
  }
 },
 "nbformat": 4,
 "nbformat_minor": 5
}
