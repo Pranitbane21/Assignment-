{
 "cells": [
  {
   "cell_type": "markdown",
   "id": "8a06abba",
   "metadata": {},
   "source": [
    "1. To what does a relative path refer?\n",
    "\n",
    "__Ans__.\n",
    "\n",
    "- The relative path is the path to some file with respect to your current working directory (PWD).\n",
    "  For example: if Absolute path to a file called stuff.txt is: C:/users/admin/docs/stuff.txt If my PWD is C:/users/admin/ ,   then the relative path to stuff.txt would be: docs/stuff.txt\n",
    "  \n",
    "  Note: PWD + relative path = absolute path\n",
    "  \n",
    "---"
   ]
  },
  {
   "cell_type": "markdown",
   "id": "7490749f",
   "metadata": {},
   "source": [
    "2. What does an absolute path start with your operating system?\n",
    "\n",
    "__Ans__.\n",
    "\n",
    "- In Linux based systems the absolute path starts with /. Where as in Windows based systems absolute path starts with C:\n",
    "\n",
    "---"
   ]
  },
  {
   "cell_type": "markdown",
   "id": "e2003ff8",
   "metadata": {},
   "source": [
    "3. What do the functions os.getcwd() and os.chdir() do?\n",
    "\n",
    "__Ans__.\n",
    "\n",
    "- os.getcwd() method tells us the location of current working directory (CWD). Whereas os.chdir() method in Python used to   change the current working directory to specified path. These functions are similar to linux commands pwd and cd.\n",
    "\n",
    "---"
   ]
  },
  {
   "cell_type": "markdown",
   "id": "e748e0ca",
   "metadata": {},
   "source": [
    "4. What are the . and .. folders?\n",
    "\n",
    "__Ans__.\n",
    "\n",
    "- . Represents the Current Directory \n",
    "- Whereas .. Represents the Parent Directory of the Current Directory\n",
    "  \n",
    "  For Example: if the below path is my absolute path:\n",
    "  C:\\\\Users\\\\pranit\\\\Documents\\\\iNeuron-Assignments\\\\Python Basic Assignment\n",
    "  Then . represents the path C:\\\\Users\\\\pranit\\\\Documents\\\\iNeuron-Assignments\\\\Python Basic Assignment\n",
    "  Where as .. represents the path C:\\\\Users\\\\pranit\\\\Documents\\\\iNeuron-Assignments\n",
    " \n",
    "---"
   ]
  },
  {
   "cell_type": "markdown",
   "id": "3f878171",
   "metadata": {},
   "source": [
    "5. In C:\\bacon\\eggs\\spam.txt, which part is the dir name, and which part is the base name?\n",
    "\n",
    "__Ans__.\n",
    "\n",
    "- For C:\\bacon\\eggs\\spam.txt\n",
    "  The dir name is C:\\\\bacon\\\\eggs\n",
    "  The Base name is spam.txt\n",
    "\n",
    "---"
   ]
  },
  {
   "cell_type": "markdown",
   "id": "f4e85b6d",
   "metadata": {},
   "source": [
    "6. What are the three “mode” arguments that can be passed to the open() function?\n",
    "\n",
    "__Ans__.\n",
    "\n",
    "- A file can be Accessed in python using open() function. open function takes two arguments filename and mode of operation   (optional). if mode is not provided the default mode of opening is read mode\n",
    "  So, the syntax being: open(filename, mode)\n",
    "\n",
    "  ‘r’ – Read Mode: This is the default mode for open(). The file is opened and a pointer is positioned at the beginning of   the file’s content.\n",
    "  \n",
    "  ‘w’ – Write Mode: Using this mode will overwrite any existing content in a file. If the given file does not exist, a new   one will be created.\n",
    "  \n",
    "  ‘r+’ – Read/Write Mode: Use this mode if you need to simultaneously read and write to a file.\n",
    "  \n",
    "  ‘a’ – Append Mode: With this mode the user can append the data without overwriting any already existing data in the file.\n",
    "  \n",
    "  ‘a+’ – Append and Read Mode: In this mode you can read and append the data without overwriting the original file.\n",
    "  \n",
    "  ‘x’ – Exclusive Creating Mode: This mode is for the sole purpose of creating new files. Use this mode if you know the       file to be written doesn’t exist beforehand.\n",
    "  \n",
    "___\n"
   ]
  },
  {
   "cell_type": "markdown",
   "id": "5299afb5",
   "metadata": {},
   "source": [
    "7. What happens if an existing file is opened in write mode?\n",
    "\n",
    "__Ans__.\n",
    "\n",
    "- Using this mode will overwrite any existing content in a file. If the given file does not exist, a new one will be         created.\n",
    "\n",
    "___\n",
    "\n"
   ]
  },
  {
   "cell_type": "markdown",
   "id": "15b9428e",
   "metadata": {},
   "source": [
    "8. How do you tell the difference between read() and readlines()?\n",
    "\n",
    "__Ans__.\n",
    "- The main difference is that read() will read the whole file at once and then print out the first characters that take up as many bytes as you specify in the parenthesis\n",
    "\n",
    "- Whereas the readline() that will read and print out only the first characters that take up as many bytes as you specify   in the parenthesis. \n",
    "- You may want to use readline() when you're reading files that are too big for your RAM.\n",
    "- The read() would treat each character in the file separately, meaning that the iteration would happen for every      character.\n",
    "- The readline() function, on the other hand, only reads a single line of the file. This means that if the first line of the file were three lines long, the readline() function would only parse (or iterate/operate) on the first line of the file.\n"
   ]
  },
  {
   "cell_type": "markdown",
   "id": "944fd9f7",
   "metadata": {},
   "source": [
    "9. What data structure does a shelf value resemble?\n",
    "\n",
    "__Ans__.\n",
    "\n",
    "- it contains key and values it represents dictionary."
   ]
  },
  {
   "cell_type": "code",
   "execution_count": null,
   "id": "1bc2e461",
   "metadata": {},
   "outputs": [],
   "source": []
  }
 ],
 "metadata": {
  "kernelspec": {
   "display_name": "Python 3 (ipykernel)",
   "language": "python",
   "name": "python3"
  },
  "language_info": {
   "codemirror_mode": {
    "name": "ipython",
    "version": 3
   },
   "file_extension": ".py",
   "mimetype": "text/x-python",
   "name": "python",
   "nbconvert_exporter": "python",
   "pygments_lexer": "ipython3",
   "version": "3.9.7"
  }
 },
 "nbformat": 4,
 "nbformat_minor": 5
}
