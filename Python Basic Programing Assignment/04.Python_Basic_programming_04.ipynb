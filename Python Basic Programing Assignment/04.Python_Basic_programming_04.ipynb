{
 "cells": [
  {
   "cell_type": "markdown",
   "id": "42f637ad",
   "metadata": {},
   "source": [
    "1. Write a Python Program to Find the Factorial of a Number?"
   ]
  },
  {
   "cell_type": "code",
   "execution_count": 1,
   "id": "36a296a8",
   "metadata": {},
   "outputs": [
    {
     "name": "stdout",
     "output_type": "stream",
     "text": [
      "Enter a number: 5\n",
      "120\n"
     ]
    }
   ],
   "source": [
    "x= int(input(\"Enter a number: \"))\n",
    "\n",
    "def fact(x):\n",
    "    f=1\n",
    "    for i in range(1,x+1):\n",
    "        f=f*i\n",
    "    return f\n",
    "\n",
    "result=fact(x)\n",
    "print(result)"
   ]
  },
  {
   "cell_type": "markdown",
   "id": "03481425",
   "metadata": {},
   "source": [
    "2. Write a Python Program to Display the multiplication Table?"
   ]
  },
  {
   "cell_type": "code",
   "execution_count": 2,
   "id": "2ea786f3",
   "metadata": {},
   "outputs": [
    {
     "name": "stdout",
     "output_type": "stream",
     "text": [
      "Enter number: 9\n",
      "9 * 1  = 9\n",
      "9 * 2  = 18\n",
      "9 * 3  = 27\n",
      "9 * 4  = 36\n",
      "9 * 5  = 45\n",
      "9 * 6  = 54\n",
      "9 * 7  = 63\n",
      "9 * 8  = 72\n",
      "9 * 9  = 81\n",
      "9 * 10  = 90\n"
     ]
    }
   ],
   "source": [
    "num =int(input(\"Enter number: \"))\n",
    "\n",
    "for i in range (1,11):\n",
    "    print(\"{0} * {1}  = {2}\".format(num,i,(num*i)))"
   ]
  },
  {
   "cell_type": "markdown",
   "id": "ce7b175f",
   "metadata": {},
   "source": [
    "3. Write a Python Program to Print the Fibonacci sequence?"
   ]
  },
  {
   "cell_type": "code",
   "execution_count": 5,
   "id": "f00268fa",
   "metadata": {},
   "outputs": [
    {
     "name": "stdout",
     "output_type": "stream",
     "text": [
      "Enter a number10\n",
      "0\n",
      "1\n",
      "1\n",
      "2\n",
      "3\n",
      "5\n",
      "8\n",
      "13\n",
      "21\n",
      "34\n"
     ]
    }
   ],
   "source": [
    "def fib(n):\n",
    "    a=0\n",
    "    b=1\n",
    "    if n<1:\n",
    "        print(\"input invaild\")\n",
    "    elif n==1:\n",
    "        print(a)\n",
    "    else:\n",
    "        print(a)\n",
    "        print(b)\n",
    "        for i in range(2,n):\n",
    "            c=a+b\n",
    "            a=b\n",
    "            b=c\n",
    "            print(c)\n",
    "n=int(input(\"Enter a number\"))\n",
    "\n",
    "fib(n)\n",
    "        "
   ]
  },
  {
   "cell_type": "markdown",
   "id": "b30fd37e",
   "metadata": {},
   "source": [
    "4. Write a Python Program to Check Armstrong Number?"
   ]
  },
  {
   "cell_type": "code",
   "execution_count": 4,
   "id": "4540bd6d",
   "metadata": {},
   "outputs": [
    {
     "name": "stdout",
     "output_type": "stream",
     "text": [
      "Enter the number: 153\n",
      "153 is an armstrong number\n"
     ]
    }
   ],
   "source": [
    "n=int(input(\"Enter the number: \"))\n",
    "\n",
    "order=len(str(n))\n",
    "sum=0\n",
    "copy_n=n\n",
    "while (n>0):\n",
    "    digit=n%10\n",
    "    sum+=digit**order\n",
    "    n=n//10\n",
    "\n",
    "if sum==copy_n:\n",
    "    print(f\"{copy_n} is an armstrong number\" )\n",
    "else:\n",
    "    print(f\"{copy_n} is not an armstrong number\" )"
   ]
  },
  {
   "cell_type": "markdown",
   "id": "59a769d8",
   "metadata": {},
   "source": [
    "5. Write a Python Program to Find Armstrong Number in an Interval?"
   ]
  },
  {
   "cell_type": "code",
   "execution_count": 3,
   "id": "f18ae7f0",
   "metadata": {},
   "outputs": [
    {
     "name": "stdout",
     "output_type": "stream",
     "text": [
      "1 is an armstrong number\n",
      "2 is an armstrong number\n",
      "3 is an armstrong number\n",
      "4 is an armstrong number\n",
      "5 is an armstrong number\n",
      "6 is an armstrong number\n",
      "7 is an armstrong number\n",
      "8 is an armstrong number\n",
      "9 is an armstrong number\n",
      "25 is an armstrong number\n",
      "36 is an armstrong number\n",
      "125 is an armstrong number\n",
      "153 is an armstrong number\n",
      "216 is an armstrong number\n",
      "370 is an armstrong number\n",
      "371 is an armstrong number\n",
      "407 is an armstrong number\n",
      "729 is an armstrong number\n"
     ]
    }
   ],
   "source": [
    "for i in range(1,1000):\n",
    "    order=len(str(i))\n",
    "    sum=0\n",
    "    copy_i=i\n",
    "    while(i>0):\n",
    "        digit=i%10\n",
    "        sum+=digit**order\n",
    "        i=i//10\n",
    "        if sum==copy_i:\n",
    "            print(f\"{copy_i} is an armstrong number\" )"
   ]
  },
  {
   "cell_type": "markdown",
   "id": "98e319cc",
   "metadata": {},
   "source": [
    "6. Write a Python Program to Find the Sum of Natural Numbers?"
   ]
  },
  {
   "cell_type": "code",
   "execution_count": 27,
   "id": "9bc205c9",
   "metadata": {},
   "outputs": [
    {
     "name": "stdout",
     "output_type": "stream",
     "text": [
      "16\n",
      "sum of natural numbers:  136\n"
     ]
    }
   ],
   "source": [
    "n=int(input())\n",
    "                       #i=1 \n",
    "sum=0\n",
    "for i in range(1,n+1): #while(i>=n):\n",
    "    sum=sum+i\n",
    "    i=i+1\n",
    "print(\"sum of natural numbers: \",sum)"
   ]
  },
  {
   "cell_type": "code",
   "execution_count": null,
   "id": "035ec2a6",
   "metadata": {},
   "outputs": [],
   "source": []
  }
 ],
 "metadata": {
  "kernelspec": {
   "display_name": "Python 3 (ipykernel)",
   "language": "python",
   "name": "python3"
  },
  "language_info": {
   "codemirror_mode": {
    "name": "ipython",
    "version": 3
   },
   "file_extension": ".py",
   "mimetype": "text/x-python",
   "name": "python",
   "nbconvert_exporter": "python",
   "pygments_lexer": "ipython3",
   "version": "3.9.12"
  }
 },
 "nbformat": 4,
 "nbformat_minor": 5
}
