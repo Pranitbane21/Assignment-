{
 "cells": [
  {
   "cell_type": "markdown",
   "id": "783178d0",
   "metadata": {},
   "source": [
    "1.Write a Python program to Extract Unique values dictionary values?"
   ]
  },
  {
   "cell_type": "code",
   "execution_count": 4,
   "id": "d0264f79",
   "metadata": {},
   "outputs": [
    {
     "name": "stdout",
     "output_type": "stream",
     "text": [
      "Printing Dictnary values:  dict_values(['Rakesh', 'Mukesh', 'Suresh', 'Ramesh', 'Rakesh'])\n",
      "Print Unquie values    : ['Rakesh', 'Mukesh', 'Suresh', 'Ramesh']\n"
     ]
    }
   ],
   "source": [
    "in_dict={1:\"Rakesh\",2:\"Mukesh\",3:\"Suresh\",4:\"Ramesh\",5:\"Rakesh\"}\n",
    "print(\"Printing Dictnary values: \",in_dict.values())\n",
    "print(f\"Print Unquie values    :\",list(set(in_dict.values())))\n"
   ]
  },
  {
   "cell_type": "markdown",
   "id": "dd78a9c3",
   "metadata": {},
   "source": [
    "2.Write a Python program to find the sum of all items in a dictionary?"
   ]
  },
  {
   "cell_type": "code",
   "execution_count": 7,
   "id": "b6ae420c",
   "metadata": {},
   "outputs": [
    {
     "name": "stdout",
     "output_type": "stream",
     "text": [
      "Sum of Dictionary:  2180\n"
     ]
    }
   ],
   "source": [
    "in_dict={\"Rakesh\":400,\"Mukesh\":350,\"Suresh\":470,\"Ramesh\":580,\"Rakesh\":780}\n",
    "print(f\"Sum of Dictionary: \",sum(in_dict.values()))\n"
   ]
  },
  {
   "cell_type": "markdown",
   "id": "d06849fb",
   "metadata": {},
   "source": [
    "3.Write a Python program to Merging two Dictionaries?"
   ]
  },
  {
   "cell_type": "code",
   "execution_count": 10,
   "id": "6c70c1b1",
   "metadata": {},
   "outputs": [
    {
     "name": "stdout",
     "output_type": "stream",
     "text": [
      "Merge Dict {'Rakesh': 780, 'Mukesh': 350, 'Suresh': 470, 'Ramesh': 580, 'Shashikant': 962, 'Pranit': 450, 'Shalaka': 567, 'Sarvesh': ['Bsc', 2018]}\n"
     ]
    }
   ],
   "source": [
    "in_dict={\"Rakesh\":400,\"Mukesh\":350,\"Suresh\":470,\"Ramesh\":580,\"Rakesh\":780}\n",
    "instuctor={\"Shashikant\":962,\"Pranit\":450,\"Shalaka\":567,\"Sarvesh\":[\"Bsc\",2018]}\n",
    "in_dict.update(instuctor)\n",
    "print(f\"Merge Dict\",in_dict)"
   ]
  },
  {
   "cell_type": "markdown",
   "id": "3fa5dca2",
   "metadata": {},
   "source": [
    "4.Write a Python program to convert key-values list to flat dictionary?"
   ]
  },
  {
   "cell_type": "code",
   "execution_count": 12,
   "id": "81c44276",
   "metadata": {},
   "outputs": [
    {
     "name": "stdout",
     "output_type": "stream",
     "text": [
      "Normal dict:{'Month Number': [1, 2, 3, 4, 5], 'Month Name': ['Jan', 'Feb', 'Mar', 'Apr', 'May']}\n",
      "Flattered Dict: {1: 'Jan', 2: 'Feb', 3: 'Mar', 4: 'Apr', 5: 'May'}\n"
     ]
    }
   ],
   "source": [
    "#1 way\n",
    "from itertools import product\n",
    "my_dict={'Month Number':[1,2,3,4,5],'Month Name':['Jan','Feb','Mar','Apr','May']}\n",
    "print(f\"Normal dict:{my_dict}\")\n",
    "my_result=dict(zip(my_dict['Month Number'],my_dict['Month Name']))\n",
    "print(\"Flattered Dict:\",my_result)"
   ]
  },
  {
   "cell_type": "code",
   "execution_count": 14,
   "id": "53c8ae80",
   "metadata": {},
   "outputs": [
    {
     "name": "stdout",
     "output_type": "stream",
     "text": [
      "{'A': 10, 'B': 20, 'C': 30, 'D': 40, 'E': 50, 'F': 60, 'G': 70, 'H': 80, 'I': 90, 'J': 100}\n"
     ]
    }
   ],
   "source": [
    "#2 way\n",
    "in_list = [('A',10),('B',20),('C',30),('D',40),('E',50),('F',60),('G',70),('H',80),('I',90),('J',100)]\n",
    "print(dict(in_list))"
   ]
  },
  {
   "cell_type": "markdown",
   "id": "5e1eb646",
   "metadata": {},
   "source": [
    "5.Write a Python program to insertion at the beginning in OrderedDict?"
   ]
  },
  {
   "cell_type": "code",
   "execution_count": 30,
   "id": "2bd4f589",
   "metadata": {},
   "outputs": [
    {
     "name": "stdout",
     "output_type": "stream",
     "text": [
      "dict1:  OrderedDict([('Ramesh', 1), ('Suresh', 4), ('James', 5)])\n",
      "{'MARK': 7, 'Ramesh': 1, 'Suresh': 4, 'James': 5}\n"
     ]
    }
   ],
   "source": [
    "from collections import OrderedDict\n",
    "dict1=OrderedDict({\"Ramesh\":1,\"Suresh\":4,\"James\":5})\n",
    "print(\"dict1: \",dict1)\n",
    "my_dict={\"MARK\":7}\n",
    "dict1.update(my_dict)\n",
    "dict1.move_to_end(\"MARK\",last=False)\n",
    "print(dict(dict1))"
   ]
  },
  {
   "cell_type": "markdown",
   "id": "00a46486",
   "metadata": {},
   "source": [
    "6.Write a Python program to check order of character in string using OrderedDict()?"
   ]
  },
  {
   "cell_type": "code",
   "execution_count": 27,
   "id": "6602a0af",
   "metadata": {},
   "outputs": [
    {
     "name": "stdout",
     "output_type": "stream",
     "text": [
      "{'a': 123, 'e': 450, 'd': 555, 'c': 234, 'b': 345}\n",
      "OrderedDict([('a', 123), ('b', 345), ('c', 234), ('d', 555), ('e', 450)])\n"
     ]
    }
   ],
   "source": [
    "from  collections import OrderedDict\n",
    "\n",
    "my_dict = {'a': 123,'e': 450,'d': 555,'c': 234,'b': 345}\n",
    "print(my_dict)\n",
    "\n",
    "return_dict=OrderedDict(dict(sorted(my_dict.items())))\n",
    "print(return_dict)"
   ]
  },
  {
   "cell_type": "markdown",
   "id": "c930863b",
   "metadata": {},
   "source": [
    "7.Write a Python program to sort Python Dictionaries by Key or Value?"
   ]
  },
  {
   "cell_type": "code",
   "execution_count": 50,
   "id": "88d7f35c",
   "metadata": {},
   "outputs": [
    {
     "name": "stdout",
     "output_type": "stream",
     "text": [
      "{'a': 123, 'c': 234, 'b': 345, 'e': 450, 'd': 555}\n"
     ]
    }
   ],
   "source": [
    "my_dict = {'a': 123,'e': 450,'d': 555,'c': 234,'b': 345}\n",
    "\n",
    "def sort_dict(insert_dict,sort_type):\n",
    "    if sort_type=='key':\n",
    "        print(dict(sorted(insert_dict.items(),key=lambda x:x[0],reverse=False)))\n",
    "    elif sort_type=='value':\n",
    "        print(dict(sorted(insert_dict.items(),key=lambda x:x[1],reverse=False)))\n",
    "    else:\n",
    "        print(\"Invalid input type\")\n",
    "\n",
    "        \n",
    "sort_dict(my_dict,'value')"
   ]
  },
  {
   "cell_type": "code",
   "execution_count": null,
   "id": "abab9862",
   "metadata": {},
   "outputs": [],
   "source": []
  }
 ],
 "metadata": {
  "kernelspec": {
   "display_name": "Python 3 (ipykernel)",
   "language": "python",
   "name": "python3"
  },
  "language_info": {
   "codemirror_mode": {
    "name": "ipython",
    "version": 3
   },
   "file_extension": ".py",
   "mimetype": "text/x-python",
   "name": "python",
   "nbconvert_exporter": "python",
   "pygments_lexer": "ipython3",
   "version": "3.9.12"
  }
 },
 "nbformat": 4,
 "nbformat_minor": 5
}
