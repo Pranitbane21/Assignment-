{
 "cells": [
  {
   "cell_type": "markdown",
   "id": "8631f0ea",
   "metadata": {},
   "source": [
    "1.Write a program that calculates and prints the value according to the given formula:\n",
    "\n",
    "Q = Square root of [(2 * C * D)/H]\n",
    "\n",
    "Following are the fixed values of C and H:\n",
    "\n",
    "C is 50. H is 30.\n",
    "\n",
    "D is the variable whose values should be input to your program in a comma-separated sequence.\n",
    "\n",
    "__Example__: \n",
    "Let us assume the following comma separated input sequence is given to the program:100,150,180\n",
    "\n",
    "The output of the program should be: 18,22,24"
   ]
  },
  {
   "cell_type": "code",
   "execution_count": 1,
   "id": "53ae3a91",
   "metadata": {},
   "outputs": [
    {
     "name": "stdout",
     "output_type": "stream",
     "text": [
      "Enter the value: 100,150,180\n",
      "output : 18,22,24\n"
     ]
    }
   ],
   "source": [
    "from math import sqrt\n",
    "def calculateProgram():\n",
    "    from math import sqrt\n",
    "    in_num=eval(input(\"Enter the value: \"))\n",
    "    out_num=[]\n",
    "    C=50\n",
    "    H=30\n",
    "    for i in in_num:\n",
    "        q=str(int(sqrt((2*C*i)/H)))\n",
    "        out_num.append(q)\n",
    "    print('output :',','.join(out_num))\n",
    "\n",
    "calculateProgram()"
   ]
  },
  {
   "cell_type": "markdown",
   "id": "45f4c148",
   "metadata": {},
   "source": [
    "2.Write a program which takes 2 digits, X,Y as input and generates a 2-dimensional array. The element value in the i-th row and j-th column of the array should be i*j.\n",
    "\n",
    "Note: i=0,1.., X-1; j=0,1,¡Y-1.\n",
    "\n",
    "__Example__:\n",
    "Suppose the following inputs are given to the program: 3,5\n",
    "\n",
    "Then, the output of the program should be:[[0, 0, 0, 0, 0], [0, 1, 2, 3, 4], [0, 2, 4, 6, 8]]"
   ]
  },
  {
   "cell_type": "code",
   "execution_count": 25,
   "id": "577217d6",
   "metadata": {},
   "outputs": [
    {
     "name": "stdout",
     "output_type": "stream",
     "text": [
      "Enter the number of rows: 3\n",
      "Enter the number of columns: 5\n",
      "0\n",
      "0\n",
      "0\n",
      "0\n",
      "0\n",
      "\n",
      "0\n",
      "1\n",
      "2\n",
      "3\n",
      "4\n",
      "\n",
      "0\n",
      "2\n",
      "4\n",
      "6\n",
      "8\n",
      "\n",
      "0 0 0 0 0 \n",
      "0 1 2 3 4 \n",
      "0 2 4 6 8 \n"
     ]
    }
   ],
   "source": [
    "import numpy as np\n",
    "matrix=[]\n",
    "\n",
    "rws=int(input(\"Enter the number of rows: \"))\n",
    "col=int(input(\"Enter the number of columns: \"))\n",
    "\n",
    "for i in range(rws):\n",
    "    a=[]\n",
    "    for j in range(col):\n",
    "        val=int(input())\n",
    "        a.append(val)\n",
    "    matrix.append(a)\n",
    "    print()\n",
    "for i in range(rws):\n",
    "    for j in range(col):\n",
    "        print(matrix[i][j],end=\" \")\n",
    "    print()\n",
    "        "
   ]
  },
  {
   "cell_type": "markdown",
   "id": "ee72925b",
   "metadata": {},
   "source": [
    "3.Write a program that accepts a comma separated sequence of words as input and prints the words in a comma-separated sequence after sorting them alphabetically ?\n",
    "\n",
    "Suppose the following input is supplied to the program: without,hello,bag,world\n",
    "\n",
    "Then, the output should be: bag,hello,without,world"
   ]
  },
  {
   "cell_type": "code",
   "execution_count": 7,
   "id": "58e6e40c",
   "metadata": {},
   "outputs": [
    {
     "name": "stdout",
     "output_type": "stream",
     "text": [
      "Enter the string: without,hello,bag,world\n"
     ]
    },
    {
     "data": {
      "text/plain": [
       "'bag,hello,without,world'"
      ]
     },
     "execution_count": 7,
     "metadata": {},
     "output_type": "execute_result"
    }
   ],
   "source": [
    "def sortstring():\n",
    "    in_string=input(\"Enter the string: \")\n",
    "    out_string=','.join(sorted(in_string.split(',')))\n",
    "    return out_string\n",
    "\n",
    "sortstring()"
   ]
  },
  {
   "cell_type": "markdown",
   "id": "a9aeb547",
   "metadata": {},
   "source": [
    "4.Write a program that accepts a sequence of whitespace separated words as input and prints the words after removing all duplicate words and sorting them alphanumerically.\n",
    "\n",
    "Suppose the following input is supplied to the program: hello world and practice makes perfect and hello world again\n",
    "\n",
    "Then, the output should be: again and hello makes perfect practice world"
   ]
  },
  {
   "cell_type": "code",
   "execution_count": 22,
   "id": "87cf2654",
   "metadata": {},
   "outputs": [
    {
     "name": "stdout",
     "output_type": "stream",
     "text": [
      "Enter the string: hello world and practice makes perfect and hello world again\n"
     ]
    },
    {
     "data": {
      "text/plain": [
       "'again and hello makes perfect practice world'"
      ]
     },
     "execution_count": 22,
     "metadata": {},
     "output_type": "execute_result"
    }
   ],
   "source": [
    "def removeduplicatesortalphanumerically():\n",
    "    input_string = input(\"Enter the string: \")\n",
    "    output_string = ' '.join(sorted(set(input_string.split())))\n",
    "    return output_string\n",
    "\n",
    "removeduplicatesortalphanumerically()"
   ]
  },
  {
   "cell_type": "markdown",
   "id": "83153184",
   "metadata": {},
   "source": [
    "5.Write a program that accepts a sentence and calculate the number of letters and digits.\n",
    "\n",
    "Suppose the following input is supplied to the program: hello world! 123\n",
    "\n",
    "Then, the output should be:\n",
    "\n",
    "LETTERS 10\n",
    "\n",
    "DIGITS 3"
   ]
  },
  {
   "cell_type": "code",
   "execution_count": 30,
   "id": "c13beb00",
   "metadata": {},
   "outputs": [
    {
     "name": "stdout",
     "output_type": "stream",
     "text": [
      "Enter the sentence: hello world! 123\n",
      "Number of letter is: 10  \n",
      "Number of digit is 3\n"
     ]
    }
   ],
   "source": [
    "def calletteranddigits():\n",
    "    sentence = input(\"Enter the sentence: \")\n",
    "    letterlist='ABCDEFGHIJKLMNOPQRSTUVWXYZabcdefghijklmnopqrstuvwxyz'\n",
    "    digitlist='0123456789'\n",
    "    letter=0\n",
    "    digit=0\n",
    "    for i in sentence:\n",
    "        if i in letterlist:\n",
    "            letter+=1\n",
    "        if i in digitlist:\n",
    "            digit+=1\n",
    "    print(f\"Number of letter is: {letter}  \\nNumber of digit is {digit}\")\n",
    "\n",
    "calletteranddigits()"
   ]
  },
  {
   "cell_type": "markdown",
   "id": "dd48fc0f",
   "metadata": {},
   "source": [
    "6.A website requires the users to input username and password to register. Write a program to check the validity of password input by users.\n",
    "Following are the criteria for checking the password:\n",
    "\n",
    "At least 1 letter between [a-z]\n",
    "At least 1 number between [0-9]\n",
    "At least 1 letter between [A-Z]\n",
    "At least 1 character from [$#@]\n",
    "\n",
    "Minimum length of transaction password: 6\n",
    "Maximum length of transaction password: 12\n",
    "Your program should accept a sequence of comma separated passwords and will check them according to the above criteria. Passwords that match the criteria are to be printed, each separated by a comma.\n",
    "\n",
    "__Example__:\n",
    "\n",
    "If the following passwords are given as input to the program: ABd1234@1,a F1#,2w3E*,2We3345\n",
    "\n",
    "Then, the output of the program should be: ABd1234@1"
   ]
  },
  {
   "cell_type": "code",
   "execution_count": 7,
   "id": "2e05dfb9",
   "metadata": {},
   "outputs": [
    {
     "name": "stdout",
     "output_type": "stream",
     "text": [
      "Enter the user name: abs21\n",
      "Enter the password: ABd1234@1\n",
      "Valid Password ABd1234@1\n"
     ]
    }
   ],
   "source": [
    "import re \n",
    "\n",
    "flag = 0\n",
    "username = input(\"Enter the user name: \")\n",
    "passwd = input(\"Enter the password: \")\n",
    "\n",
    "if len(passwd)<=6 and len(passwd)>=12:\n",
    "    flag = 1\n",
    "if not re.search(\"[a-z]\",passwd):\n",
    "    flag = 1\n",
    "if not re.search(\"[A-Z]\",passwd):\n",
    "    flag = 1\n",
    "if not re.search(\"[0-9]\",passwd):\n",
    "    flag = 1\n",
    "if not re.search(\"[@$#!]\",passwd):\n",
    "    flag = 1\n",
    "\n",
    "if (flag == 0):\n",
    "    print(\"Valid Password\",passwd)\n",
    "else :\n",
    "    print(\"Invalid\",passwd)"
   ]
  },
  {
   "cell_type": "code",
   "execution_count": null,
   "id": "5aadedc6",
   "metadata": {},
   "outputs": [],
   "source": []
  }
 ],
 "metadata": {
  "kernelspec": {
   "display_name": "Python 3 (ipykernel)",
   "language": "python",
   "name": "python3"
  },
  "language_info": {
   "codemirror_mode": {
    "name": "ipython",
    "version": 3
   },
   "file_extension": ".py",
   "mimetype": "text/x-python",
   "name": "python",
   "nbconvert_exporter": "python",
   "pygments_lexer": "ipython3",
   "version": "3.9.12"
  }
 },
 "nbformat": 4,
 "nbformat_minor": 5
}
