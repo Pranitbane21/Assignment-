{
 "cells": [
  {
   "cell_type": "markdown",
   "id": "dad9c09a",
   "metadata": {},
   "source": [
    "1. Write a Python Program to Find LCM?"
   ]
  },
  {
   "cell_type": "code",
   "execution_count": 5,
   "id": "3accca2d",
   "metadata": {},
   "outputs": [
    {
     "name": "stdout",
     "output_type": "stream",
     "text": [
      "Enter the first number: 4\n",
      "Enter the second number: 6\n",
      "4 and 6 LCM is: 12\n"
     ]
    }
   ],
   "source": [
    "a=int(input(\"Enter the first number: \"))\n",
    "b=int(input(\"Enter the second number: \"))\n",
    "for i in  range(1,a*b+1):\n",
    "    if i%a==0 and i%b==0:\n",
    "        print(f\"{a} and {b} LCM is: {i}\")\n",
    "        break\n"
   ]
  },
  {
   "cell_type": "markdown",
   "id": "19a2438a",
   "metadata": {},
   "source": [
    "2. Write a Python Program to Find HCF?"
   ]
  },
  {
   "cell_type": "code",
   "execution_count": 10,
   "id": "a08ee1b5",
   "metadata": {},
   "outputs": [
    {
     "name": "stdout",
     "output_type": "stream",
     "text": [
      "Enter the first number: 30\n",
      "Enter the second number: 20\n",
      "HCM is:  10\n"
     ]
    }
   ],
   "source": [
    "a=int(input(\"Enter the first number: \"))\n",
    "b=int(input(\"Enter the second number: \"))\n",
    "\n",
    "while a%b!=0:\n",
    "    rem=a%b\n",
    "    a=b\n",
    "    b=rem\n",
    "print(\"HCM is: \",b)"
   ]
  },
  {
   "cell_type": "markdown",
   "id": "d5e365c8",
   "metadata": {},
   "source": [
    "3. Write a Python Program to Convert Decimal to Binary, Octal and Hexadecimal?"
   ]
  },
  {
   "cell_type": "code",
   "execution_count": 1,
   "id": "457275b8",
   "metadata": {},
   "outputs": [
    {
     "ename": "SyntaxError",
     "evalue": "invalid syntax (2653466080.py, line 4)",
     "output_type": "error",
     "traceback": [
      "\u001b[1;36m  Input \u001b[1;32mIn [1]\u001b[1;36m\u001b[0m\n\u001b[1;33m    print(f'{a} TO Octal {oct(a)}')\u001b[0m\n\u001b[1;37m    ^\u001b[0m\n\u001b[1;31mSyntaxError\u001b[0m\u001b[1;31m:\u001b[0m invalid syntax\n"
     ]
    }
   ],
   "source": [
    "\n",
    "def DecimalToOther():\n",
    "    a=int(input(\"Enter the number: \\n\"))\n",
    "    print(\"{0} To binary {1}\".format(a,bin(a))\n",
    "    print(f'{a} TO Octal {oct(a)}')\n",
    "    print(f\"{a} To Hexadecimal {hex(a)}\")\n",
    "\n",
    "DecimalToOther()"
   ]
  },
  {
   "cell_type": "markdown",
   "id": "33e8efd7",
   "metadata": {},
   "source": [
    "4. Write a Python Program To Find ASCII value of a character?"
   ]
  },
  {
   "cell_type": "code",
   "execution_count": 5,
   "id": "9918568c",
   "metadata": {},
   "outputs": [
    {
     "name": "stdout",
     "output_type": "stream",
     "text": [
      "Enter the character: &\n",
      "ASCII value is:  38\n"
     ]
    }
   ],
   "source": [
    "char=input(\"Enter the character: \")\n",
    "a=ord(char)                           #char()   to find char\n",
    "print(f\"ASCII value is: \"a)"
   ]
  },
  {
   "cell_type": "markdown",
   "id": "7af20d0e",
   "metadata": {},
   "source": [
    "5. Write a Python Program to Make a Simple Calculator with 4 basic mathematical operations?"
   ]
  },
  {
   "cell_type": "code",
   "execution_count": 7,
   "id": "f3c4a7f2",
   "metadata": {},
   "outputs": [
    {
     "name": "stdout",
     "output_type": "stream",
     "text": [
      "Enter the operator: -\n",
      "Enter the first number: 45\n",
      "Enter the second number: 57\n",
      "Subtraction of two number is: -12\n"
     ]
    }
   ],
   "source": [
    "op = input(\"Enter the operator: \")\n",
    "\n",
    "if op == \"+\":\n",
    "    a = int(input(\"Enter the first number: \"))\n",
    "    b = int(input(\"Enter the second number: \"))\n",
    "    if type(a) and type(b)==int:\n",
    "        c=a+b\n",
    "        print(\"Addition of two number is:\",c)\n",
    "    else:\n",
    "        print(\"Please enter a valid number\")\n",
    "elif op==\"/\":\n",
    "    a = int(input(\"Enter the first number: \"))\n",
    "    b = int(input(\"Enter the second number: \"))\n",
    "    if type(a) and type(b)==int:\n",
    "        c=a/b\n",
    "        print(\"Divison of two number is:\",c)\n",
    "    else:\n",
    "        print(\"Enter the valid number\")\n",
    "elif op==\"-\":\n",
    "    a = int(input(\"Enter the first number: \"))\n",
    "    b = int(input(\"Enter the second number: \"))\n",
    "    if type(a) and type(b)==int:\n",
    "        c=a-b\n",
    "        print(\"Subtraction of two number is:\",c)\n",
    "    else:\n",
    "        print(\"Please enter the valid number\")\n",
    "elif op=='*':\n",
    "    a = int(input(\"Enter the first number: \"))\n",
    "    b = int(input(\"Enter the second number: \"))\n",
    "    if type(a) and type(b)==int:\n",
    "        c=a*b\n",
    "        print(\"Multiplication of two number is:\",c)\n",
    "else:\n",
    "    print(\"Please Enter a valid operator\")"
   ]
  },
  {
   "cell_type": "code",
   "execution_count": null,
   "id": "9808e386",
   "metadata": {},
   "outputs": [],
   "source": []
  }
 ],
 "metadata": {
  "kernelspec": {
   "display_name": "Python 3 (ipykernel)",
   "language": "python",
   "name": "python3"
  },
  "language_info": {
   "codemirror_mode": {
    "name": "ipython",
    "version": 3
   },
   "file_extension": ".py",
   "mimetype": "text/x-python",
   "name": "python",
   "nbconvert_exporter": "python",
   "pygments_lexer": "ipython3",
   "version": "3.9.12"
  }
 },
 "nbformat": 4,
 "nbformat_minor": 5
}
