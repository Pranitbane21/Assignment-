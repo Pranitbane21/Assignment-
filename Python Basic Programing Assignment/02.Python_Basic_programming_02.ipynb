{
 "cells": [
  {
   "cell_type": "markdown",
   "id": "29b5d6d6",
   "metadata": {},
   "source": [
    "1. Write a Python program to convert kilometers to miles?"
   ]
  },
  {
   "cell_type": "code",
   "execution_count": 1,
   "id": "b3588520",
   "metadata": {},
   "outputs": [
    {
     "name": "stdout",
     "output_type": "stream",
     "text": [
      "Enter the number of kilometer: 45\n",
      "45 km is equal to 27.945 miles\n"
     ]
    }
   ],
   "source": [
    "A = int(input(\"Enter the number of kilometer: \"))\n",
    "\n",
    "def kmTOmiles(kilometer):\n",
    "    print(\"{} km is equal to {} miles\".format(kilometer,kilometer*0.621))\n",
    "\n",
    "    \n",
    "kmTOmiles(A)"
   ]
  },
  {
   "cell_type": "markdown",
   "id": "5270c191",
   "metadata": {},
   "source": [
    "2. Write a Python program to convert Celsius to Fahrenheit?"
   ]
  },
  {
   "cell_type": "code",
   "execution_count": 1,
   "id": "f1d54f60",
   "metadata": {},
   "outputs": [
    {
     "name": "stdout",
     "output_type": "stream",
     "text": [
      "Enter the number of celsius: 24\n",
      "24 celsius is equal to 75.2 Fahrenheit\n"
     ]
    }
   ],
   "source": [
    "A = int(input(\"Enter the number of celsius: \"))\n",
    "\n",
    "def celTofah(Celsius):\n",
    "    print(\"{} celsius is equal to {} Fahrenheit\".format(Celsius,(Celsius*9/5)+32))\n",
    "\n",
    "celTofah(A)"
   ]
  },
  {
   "cell_type": "markdown",
   "id": "a02fc2e4",
   "metadata": {},
   "source": [
    "3. Write a Python program to display calendar?"
   ]
  },
  {
   "cell_type": "code",
   "execution_count": 4,
   "id": "049bf24d",
   "metadata": {},
   "outputs": [
    {
     "name": "stdout",
     "output_type": "stream",
     "text": [
      "Enter the year: 2022\n",
      "                                  2022\n",
      "\n",
      "      January                   February                   March\n",
      "Mo Tu We Th Fr Sa Su      Mo Tu We Th Fr Sa Su      Mo Tu We Th Fr Sa Su\n",
      "                1  2          1  2  3  4  5  6          1  2  3  4  5  6\n",
      " 3  4  5  6  7  8  9       7  8  9 10 11 12 13       7  8  9 10 11 12 13\n",
      "10 11 12 13 14 15 16      14 15 16 17 18 19 20      14 15 16 17 18 19 20\n",
      "17 18 19 20 21 22 23      21 22 23 24 25 26 27      21 22 23 24 25 26 27\n",
      "24 25 26 27 28 29 30      28                        28 29 30 31\n",
      "31\n",
      "\n",
      "       April                      May                       June\n",
      "Mo Tu We Th Fr Sa Su      Mo Tu We Th Fr Sa Su      Mo Tu We Th Fr Sa Su\n",
      "             1  2  3                         1             1  2  3  4  5\n",
      " 4  5  6  7  8  9 10       2  3  4  5  6  7  8       6  7  8  9 10 11 12\n",
      "11 12 13 14 15 16 17       9 10 11 12 13 14 15      13 14 15 16 17 18 19\n",
      "18 19 20 21 22 23 24      16 17 18 19 20 21 22      20 21 22 23 24 25 26\n",
      "25 26 27 28 29 30         23 24 25 26 27 28 29      27 28 29 30\n",
      "                          30 31\n",
      "\n",
      "        July                     August                  September\n",
      "Mo Tu We Th Fr Sa Su      Mo Tu We Th Fr Sa Su      Mo Tu We Th Fr Sa Su\n",
      "             1  2  3       1  2  3  4  5  6  7                1  2  3  4\n",
      " 4  5  6  7  8  9 10       8  9 10 11 12 13 14       5  6  7  8  9 10 11\n",
      "11 12 13 14 15 16 17      15 16 17 18 19 20 21      12 13 14 15 16 17 18\n",
      "18 19 20 21 22 23 24      22 23 24 25 26 27 28      19 20 21 22 23 24 25\n",
      "25 26 27 28 29 30 31      29 30 31                  26 27 28 29 30\n",
      "\n",
      "      October                   November                  December\n",
      "Mo Tu We Th Fr Sa Su      Mo Tu We Th Fr Sa Su      Mo Tu We Th Fr Sa Su\n",
      "                1  2          1  2  3  4  5  6                1  2  3  4\n",
      " 3  4  5  6  7  8  9       7  8  9 10 11 12 13       5  6  7  8  9 10 11\n",
      "10 11 12 13 14 15 16      14 15 16 17 18 19 20      12 13 14 15 16 17 18\n",
      "17 18 19 20 21 22 23      21 22 23 24 25 26 27      19 20 21 22 23 24 25\n",
      "24 25 26 27 28 29 30      28 29 30                  26 27 28 29 30 31\n",
      "31\n",
      "\n"
     ]
    }
   ],
   "source": [
    "import calendar\n",
    "\n",
    "def DisplayCalendar():\n",
    "    year=int(input(\"Enter the year: \"))\n",
    "    print( calendar.calendar(year))\n",
    "\n",
    "DisplayCalendar()"
   ]
  },
  {
   "cell_type": "markdown",
   "id": "18f2995d",
   "metadata": {},
   "source": [
    "4. Write a Python program to solve quadratic equation?"
   ]
  },
  {
   "cell_type": "code",
   "execution_count": 2,
   "id": "da9984ad",
   "metadata": {},
   "outputs": [
    {
     "name": "stdout",
     "output_type": "stream",
     "text": [
      "general quadratic equation:- ax**2+bx+c = 0 \n",
      "\n",
      "Enter a(a should not be equal to 0): 2\n",
      "Enter b : 5\n",
      "Enter c : 6\n",
      "The Result of equation 2x**2+5x+6 :\n",
      "\n",
      "Type of Roots: Two Complex Roots\n",
      "The solutions are (-5+4.795831523312719j) and (-5-4.795831523312719j)\n"
     ]
    }
   ],
   "source": [
    "import cmath\n",
    "print(\"general quadratic equation:- ax**2+bx+c = 0 \\n\")\n",
    "\n",
    "a=int(input(\"Enter a(a should not be equal to 0): \"))\n",
    "b=int(input(\"Enter b : \"))\n",
    "c=int(input(\"Enter c : \"))\n",
    "\n",
    "d=(b**2)-(4*a*c)\n",
    "\n",
    "sol1 = -b+cmath.sqrt(d)/2*a\n",
    "sol2 = -b-cmath.sqrt(d)/2*a\n",
    "\n",
    "print(f\"The Result of equation {a}x**2+{b}x+{c} :\\n\")\n",
    "\n",
    "if d>0:\n",
    "    print(\"Type of Roots: Two Distint Real Roots\")\n",
    "elif d==0:\n",
    "    print(\"Type of Roots: Two Equal Real Roots\")\n",
    "    \n",
    "elif d<0:\n",
    "    print(\"Type of Roots: Two Complex Roots\")\n",
    "\n",
    "print(f\"The solutions are {sol1} and {sol2}\")\n"
   ]
  },
  {
   "cell_type": "markdown",
   "id": "6b00b48a",
   "metadata": {},
   "source": [
    "5. Write a Python program to swap two variables without temp variable?"
   ]
  },
  {
   "cell_type": "code",
   "execution_count": 3,
   "id": "16d55c1c",
   "metadata": {},
   "outputs": [
    {
     "name": "stdout",
     "output_type": "stream",
     "text": [
      "Enter the first number: 2\n",
      "Enter the second numbr: 4\n",
      "before swaping 2,4\n",
      "after swaping 4,2\n"
     ]
    }
   ],
   "source": [
    "a=int(input(\"Enter the first number: \"))\n",
    "b=int(input(\"Enter the second numbr: \"))\n",
    "\n",
    "def Swapping(a,b):\n",
    "    print(f\"before swaping {a},{b}\")\n",
    "    a,b=b,a\n",
    "    print(f\"after swaping {a},{b}\")\n",
    "\n",
    "Swapping(a,b)"
   ]
  },
  {
   "cell_type": "code",
   "execution_count": null,
   "id": "29e39bbd",
   "metadata": {},
   "outputs": [],
   "source": []
  }
 ],
 "metadata": {
  "kernelspec": {
   "display_name": "Python 3 (ipykernel)",
   "language": "python",
   "name": "python3"
  },
  "language_info": {
   "codemirror_mode": {
    "name": "ipython",
    "version": 3
   },
   "file_extension": ".py",
   "mimetype": "text/x-python",
   "name": "python",
   "nbconvert_exporter": "python",
   "pygments_lexer": "ipython3",
   "version": "3.9.12"
  }
 },
 "nbformat": 4,
 "nbformat_minor": 5
}
