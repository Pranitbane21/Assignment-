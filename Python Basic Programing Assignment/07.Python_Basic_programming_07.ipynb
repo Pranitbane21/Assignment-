{
 "cells": [
  {
   "cell_type": "markdown",
   "id": "b57e8a67",
   "metadata": {},
   "source": [
    "1. Write a Python Program to find sum of array?"
   ]
  },
  {
   "cell_type": "code",
   "execution_count": 1,
   "id": "5b2c8033",
   "metadata": {},
   "outputs": [
    {
     "name": "stdout",
     "output_type": "stream",
     "text": [
      "Enter the array: [1,2,3,4,5]\n",
      "sum of [1, 2, 3, 4, 5] is 15\n"
     ]
    }
   ],
   "source": [
    "def SumArray():\n",
    "    arry=eval(input(\"Enter the array: \"))\n",
    "    print(f\"sum of {arry} is {sum(arry)}\")\n",
    "SumArray()"
   ]
  },
  {
   "cell_type": "markdown",
   "id": "e7468791",
   "metadata": {},
   "source": [
    "2. Write a Python Program to find largest element in an array?"
   ]
  },
  {
   "cell_type": "code",
   "execution_count": 2,
   "id": "60d359ec",
   "metadata": {},
   "outputs": [
    {
     "name": "stdout",
     "output_type": "stream",
     "text": [
      "Enter the array: [1,2,35,26,15,11,10]\n",
      " In array [1, 2, 35, 26, 15, 11, 10] Largest element is 35\n"
     ]
    }
   ],
   "source": [
    "def LargeEle():\n",
    "    arr=eval(input(\"Enter the array: \"))\n",
    "    print(f\" In array {arr} Largest element is {sorted(arr,reverse=True)[0]}\")\n",
    "LargeEle()"
   ]
  },
  {
   "cell_type": "markdown",
   "id": "48b397da",
   "metadata": {},
   "source": [
    "3. Write a Python Program for array rotation?"
   ]
  },
  {
   "cell_type": "code",
   "execution_count": 6,
   "id": "0ca5bb6f",
   "metadata": {},
   "outputs": [
    {
     "name": "stdout",
     "output_type": "stream",
     "text": [
      "Enter the array: [1,2,3,4,45,67,78]\n",
      "Before rotation [1, 2, 3, 4, 45, 67, 78] and After Rotation[78, 67, 45, 4, 3, 2, 1]\n"
     ]
    }
   ],
   "source": [
    "def RotateArr():\n",
    "    arr=eval(input(\"Enter the array: \"))\n",
    "    print(f\"Before rotation {arr} and After Rotation{arr[::-1]}\")\n",
    "RotateArr()"
   ]
  },
  {
   "cell_type": "markdown",
   "id": "3a07683e",
   "metadata": {},
   "source": [
    "4. Write a Python Program to Split the array and add the first part to the end?"
   ]
  },
  {
   "cell_type": "code",
   "execution_count": 9,
   "id": "936c39be",
   "metadata": {},
   "outputs": [
    {
     "name": "stdout",
     "output_type": "stream",
     "text": [
      "25 30 35 40 15 20 "
     ]
    }
   ],
   "source": [
    "arr=[15,20,25,30,35,40]\n",
    "position=2\n",
    "n=len(arr)\n",
    "\n",
    "def splitarry(arr,n,k):\n",
    "    for i in range(0,k):\n",
    "        x=arr[0]\n",
    "        for j in range(0,n-1):\n",
    "            arr[j]=arr[j+1]\n",
    "        arr[n-1]=x\n",
    "\n",
    "splitarry(arr,n,position)\n",
    "\n",
    "for i in range(0,n):\n",
    "    print(arr[i],end=' ')\n",
    "    "
   ]
  },
  {
   "cell_type": "markdown",
   "id": "ae1314d3",
   "metadata": {},
   "source": [
    "5. Write a Python Program to check if given array is Monotonic?"
   ]
  },
  {
   "cell_type": "code",
   "execution_count": 17,
   "id": "ad173f0d",
   "metadata": {},
   "outputs": [
    {
     "name": "stdout",
     "output_type": "stream",
     "text": [
      "Enter the array: [1,1,2,3,4,5,8,9]\n"
     ]
    },
    {
     "data": {
      "text/plain": [
       "True"
      ]
     },
     "execution_count": 17,
     "metadata": {},
     "output_type": "execute_result"
    }
   ],
   "source": [
    "array=eval(input(\"Enter the array: \"))\n",
    "\n",
    "def Monotonic(A):\n",
    "    return (all(A[i]>=A[i+1] for i in range(len(A)-1)) or\n",
    "            all(A[i]<=A[i+1] for i in range(len(A)-1)))\n",
    "\n",
    "Monotonic(array)\n",
    "\n"
   ]
  },
  {
   "cell_type": "code",
   "execution_count": null,
   "id": "ad0597db",
   "metadata": {},
   "outputs": [],
   "source": []
  }
 ],
 "metadata": {
  "kernelspec": {
   "display_name": "Python 3 (ipykernel)",
   "language": "python",
   "name": "python3"
  },
  "language_info": {
   "codemirror_mode": {
    "name": "ipython",
    "version": 3
   },
   "file_extension": ".py",
   "mimetype": "text/x-python",
   "name": "python",
   "nbconvert_exporter": "python",
   "pygments_lexer": "ipython3",
   "version": "3.9.12"
  }
 },
 "nbformat": 4,
 "nbformat_minor": 5
}
