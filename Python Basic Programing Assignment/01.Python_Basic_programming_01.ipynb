{
 "cells": [
  {
   "cell_type": "markdown",
   "id": "28544f4b",
   "metadata": {},
   "source": [
    "1. Write a Python program to print &quot;Hello Python&quot;?"
   ]
  },
  {
   "cell_type": "code",
   "execution_count": 1,
   "id": "c47e7def",
   "metadata": {},
   "outputs": [
    {
     "name": "stdout",
     "output_type": "stream",
     "text": [
      "Hello Python\n"
     ]
    }
   ],
   "source": [
    "print(\"Hello Python\")"
   ]
  },
  {
   "cell_type": "markdown",
   "id": "07a73b17",
   "metadata": {},
   "source": [
    "2. Write a Python program to do arithmetical operations addition and division.?"
   ]
  },
  {
   "cell_type": "code",
   "execution_count": 19,
   "id": "9c7bc7ff",
   "metadata": {},
   "outputs": [
    {
     "name": "stdout",
     "output_type": "stream",
     "text": [
      "Enter the operator: /\n",
      "Enter the first number: 6\n",
      "Enter the second number: 3\n",
      "Divison of two number is: 2.0\n"
     ]
    }
   ],
   "source": [
    "op = input(\"Enter the operator: \")\n",
    "\n",
    "if op == \"+\":\n",
    "    a = int(input(\"Enter the first number: \"))\n",
    "    b = int(input(\"Enter the second number: \"))\n",
    "    if type(a) and type(b)==int:\n",
    "        c=a+b\n",
    "        print(\"Addition of two number is:\",c)\n",
    "    else:\n",
    "        print(\"Please enter a valid number\")\n",
    "elif op==\"/\":\n",
    "    a = int(input(\"Enter the first number: \"))\n",
    "    b = int(input(\"Enter the second number: \"))\n",
    "    if type(a) and type(b)==int:\n",
    "        c=a/b\n",
    "        print(\"Divison of two number is:\",c)\n",
    "else:\n",
    "    print(\"Please Enter a valid operator\")"
   ]
  },
  {
   "cell_type": "markdown",
   "id": "be031f37",
   "metadata": {},
   "source": [
    "3. Write a Python program to find the area of a triangle?"
   ]
  },
  {
   "cell_type": "code",
   "execution_count": 22,
   "id": "31b281b9",
   "metadata": {},
   "outputs": [
    {
     "name": "stdout",
     "output_type": "stream",
     "text": [
      "Enter the Base of the triangle: 5\n",
      "Enter the Height of the triangle: 3\n",
      "Area of triangle is:  7.5\n"
     ]
    }
   ],
   "source": [
    "Base = int(input(\"Enter the Base of the triangle: \"))\n",
    "Height = int(input(\"Enter the Height of the triangle: \"))\n",
    "\n",
    "def areaoftriangle(Base,Heigth):\n",
    "    print(\"Area of triangle is: \",0.5*Height*Base)\n",
    "areaoftriangle(Base,Height)"
   ]
  },
  {
   "cell_type": "markdown",
   "id": "cc606b62",
   "metadata": {},
   "source": [
    "4. Write a Python program to swap two variables?"
   ]
  },
  {
   "cell_type": "code",
   "execution_count": 27,
   "id": "f1f4369a",
   "metadata": {},
   "outputs": [
    {
     "name": "stdout",
     "output_type": "stream",
     "text": [
      "first number: 4\n",
      "second number: 5\n",
      "before swaping:  4 5\n",
      "after swaping: 5 4\n"
     ]
    }
   ],
   "source": [
    "a = int(input(\"first number: \"))\n",
    "b = int(input(\"second number: \"))\n",
    "\n",
    "def swaping(a,b):\n",
    "    temp=a\n",
    "    a=b\n",
    "    b=temp\n",
    "    return a,b\n",
    "\n",
    "print(\"before swaping: \",a,b)\n",
    "a,b=swaping(a,b)\n",
    "print(\"after swaping:\",a,b)\n",
    "\n"
   ]
  },
  {
   "cell_type": "markdown",
   "id": "4d228950",
   "metadata": {},
   "source": [
    "5. Write a Python program to generate a random number?"
   ]
  },
  {
   "cell_type": "code",
   "execution_count": 35,
   "id": "cd12a68f",
   "metadata": {},
   "outputs": [
    {
     "name": "stdout",
     "output_type": "stream",
     "text": [
      "Random number-> 988855\n",
      "Random number-> 89\n"
     ]
    }
   ],
   "source": [
    "from random import randint\n",
    "\n",
    "def generate_random_number(start=0,end=1000000):\n",
    "    print(\"Random number->\", randint(start,end))\n",
    "\n",
    "#without argument\n",
    "generate_random_number()\n",
    "\n",
    "#with argument\n",
    "generate_random_number(0,100)"
   ]
  },
  {
   "cell_type": "code",
   "execution_count": null,
   "id": "90a0eb76",
   "metadata": {},
   "outputs": [],
   "source": []
  }
 ],
 "metadata": {
  "kernelspec": {
   "display_name": "Python 3 (ipykernel)",
   "language": "python",
   "name": "python3"
  },
  "language_info": {
   "codemirror_mode": {
    "name": "ipython",
    "version": 3
   },
   "file_extension": ".py",
   "mimetype": "text/x-python",
   "name": "python",
   "nbconvert_exporter": "python",
   "pygments_lexer": "ipython3",
   "version": "3.9.12"
  }
 },
 "nbformat": 4,
 "nbformat_minor": 5
}
