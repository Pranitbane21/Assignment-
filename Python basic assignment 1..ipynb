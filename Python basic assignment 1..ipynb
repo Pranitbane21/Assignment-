{
 "cells": [
  {
   "cell_type": "markdown",
   "id": "4fb17b69",
   "metadata": {},
   "source": [
    "1. In the below elements which of them are values or an expression? eg:- values can be integer or string and expressions will be mathematical operators.\n",
    "\n",
    "__Ans__ \n",
    "\n",
    " -, * , /, + are expression and 'hello' ,-87.8 ,6 are values.\n",
    " \n",
    "---"
   ]
  },
  {
   "cell_type": "markdown",
   "id": "059cc653",
   "metadata": {},
   "source": [
    "2. What is the difference between string and variable?\n",
    "\n",
    "__Ans__\n",
    "\n",
    "1. Variable is the name of the location in the primary memory, variable stores string to number everything.\n",
    "    \n",
    "2. String is the characters inside quotes.example \"pranit\",\"name\",etc.\n",
    "---"
   ]
  },
  {
   "cell_type": "markdown",
   "id": "23c28c63",
   "metadata": {},
   "source": [
    "3. Describe three different data types.\n",
    "\n",
    "__Ans__\n",
    "- Three different data types are numeric, boolean, squence type.\n",
    "1. Numeric data type :- represent data which as a numeric value , it is subdivided into Integers, float and complex value.\n",
    "    1. Interger :-1,3,45,56, etc.\n",
    "    2. Float:-2.0,4.5, 176.4, etc.\n",
    "    3. complex:- 4+56j, 99+7k, etc.\n",
    "\n",
    "2. Boolean data type:- represent data in two values True or False, Object which is correct as per requirment is ask or present      in that statement etc are True and does who are not present are False.\n",
    "\n",
    "3. Sequence data type:-sequence is the ordered collection of similar or different data types. Sequences allows to store            multiple values in an organized fashion. Squence data types are:-\n",
    "      1. string(ex:- \"ineuron\")\n",
    "      2. List(ex:- [1,2,3,45]) which is mutable.\n",
    "      3. Tuple(ex:- (1,2,4,5) is immutable.\n",
    "---"
   ]
  },
  {
   "cell_type": "markdown",
   "id": "ba522b66",
   "metadata": {},
   "source": [
    "4. What are expression made up of? What do all epression do?\n",
    "\n",
    "__Ans__\n",
    "- Expression is made up of combination of values like operators, variable and functions.\n",
    "- Expression always returns a result value.\n",
    "\n",
    "---"
   ]
  },
  {
   "cell_type": "markdown",
   "id": "a7a71c24",
   "metadata": {},
   "source": [
    "5. This assignment statements, like spam = 10. What is the difference between an expression and a statement?\n",
    "\n",
    "__Ans__ \n",
    "- If above assignment statement is statement.\n",
    "    1. Expression:-Evaluation of a expression always returns a result value. every expresiion can't be a statement.\n",
    "    2. Statement:- Execution of a statement may or may not produces or displays a result value, it only does whatever the              statement    says. every statement can be a expression.\n",
    "---"
   ]
  },
  {
   "cell_type": "markdown",
   "id": "3350de3b",
   "metadata": {},
   "source": [
    "6. After running the following code, what does the variable bacon contain? bacon = 22  bacon + 1\n",
    "\n",
    "__Ans__.\n",
    " - Variable bacon contain 23, because +1 get added .\n",
    "---"
   ]
  },
  {
   "cell_type": "markdown",
   "id": "6d57b917",
   "metadata": {},
   "source": [
    "7. What should the values of the following two terms be? 'spam'+'spamspam' 'spam'*3\n",
    "\n",
    "__Ans__. \n",
    "- In this the terms have same value which is 'spamspamspam'\n",
    "---\n"
   ]
  },
  {
   "cell_type": "markdown",
   "id": "b1fff418",
   "metadata": {},
   "source": [
    "8. Why eggs is a valid variable number while 100 is invalid?\n",
    "\n",
    "__Ans__. \n",
    "- Variable name cannot start with a number.\n",
    "\n",
    "---\n"
   ]
  },
  {
   "cell_type": "markdown",
   "id": "780caf04",
   "metadata": {},
   "source": [
    "9. What three functions can be used to get integer,floating point number, 0r string version  of a value?\n",
    "\n",
    "__Ans__.\n",
    "int(), float(), str() are the three functions which evaluate the integer, float-in point number and string version of a value respectively.\n",
    "\n",
    "---"
   ]
  },
  {
   "cell_type": "markdown",
   "id": "3fd81edb",
   "metadata": {},
   "source": [
    "10. Why this expression cause and error? and How can you fix it?\n",
    "'I have eaten' +99 +'burritos'\n",
    "\n",
    "__Ans__ .\n",
    "- Above expression can be fix by simply adding ' ' quotes around integer 99 which will convert it to a string . then all strings can be added.('I have eaten' +'99 '+'burritos').\n",
    "\n",
    "---"
   ]
  },
  {
   "cell_type": "code",
   "execution_count": null,
   "id": "db069747",
   "metadata": {},
   "outputs": [],
   "source": []
  }
 ],
 "metadata": {
  "kernelspec": {
   "display_name": "Python 3 (ipykernel)",
   "language": "python",
   "name": "python3"
  },
  "language_info": {
   "codemirror_mode": {
    "name": "ipython",
    "version": 3
   },
   "file_extension": ".py",
   "mimetype": "text/x-python",
   "name": "python",
   "nbconvert_exporter": "python",
   "pygments_lexer": "ipython3",
   "version": "3.9.7"
  }
 },
 "nbformat": 4,
 "nbformat_minor": 5
}
