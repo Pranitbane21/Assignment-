{
 "cells": [
  {
   "cell_type": "markdown",
   "id": "f216440f",
   "metadata": {},
   "source": [
    "1. In what modes should the PdfFileReader() and PdfFileWriter() File objects will be opened?\n",
    "\n",
    "__Ans__.\n",
    "- For PdfFileReader() file objects should be opened in rb -> read binary mode, Whereas for PdfFileWriter() file objects should be opened in wb -> write binary mode.\n",
    "\n",
    "---"
   ]
  },
  {
   "cell_type": "markdown",
   "id": "b0b37f86",
   "metadata": {},
   "source": [
    "2. From a PdfFileReader object, how do you get a Page object for page 5?\n",
    "\n",
    "__Ans__.\n",
    "- PdfFileReader class provides a method called getPage(page_no) to get a page object."
   ]
  },
  {
   "cell_type": "code",
   "execution_count": null,
   "id": "0c96b9b0",
   "metadata": {},
   "outputs": [],
   "source": [
    "from PyPDF2 import PdfFileReader\n",
    "pdf_reader = PdfFileReader(file_path)\n",
    "for page in pdf_reader.getNumPages():\n",
    "    pdf_reader.getPage(page)"
   ]
  },
  {
   "cell_type": "markdown",
   "id": "afe0742e",
   "metadata": {},
   "source": [
    "3. What PdfFileReader variable stores the number of pages in the PDF document?\n",
    "\n",
    "__Ans__.\n",
    "\n",
    "- getNumPages() method of PdfFileReader class stores the no of pages in a PDF document.\n",
    "\n",
    "---"
   ]
  },
  {
   "cell_type": "markdown",
   "id": "9128d6d5",
   "metadata": {},
   "source": [
    "4. If a PdfFileReader object’s PDF is encrypted with the password swordfish, what must you do\n",
    "   before you can obtain Page objects from it?\n",
    "   \n",
    "__Ans__.\n",
    "\n",
    "- If a __PdfFileReader__ object’s PDF is encrypted with the password __swordfish__ and you're not aware of it. first read the Pdf     using the PdfFileReader Class. PdfFileReader class provides a attribute called __isEncrypted__ to check whether a pdf is       encrypted or not. the method returns true if a pdf is encrypted and vice versa.\n",
    "  if pdf is encrypted use the __decrypt()__ method provided by PdfFileReader class first then try to read the contents/pages of   the pdf, else PyPDF2 will raise the following error PyPDF2.utils.PdfReadError: file has not been decrypted.\n",
    "  "
   ]
  },
  {
   "cell_type": "code",
   "execution_count": null,
   "id": "e67d8b0d",
   "metadata": {},
   "outputs": [],
   "source": [
    "Example Code:\n",
    "from PyPDF2 import PdfFileReader\n",
    "pdf_reader = PdfFileReader(file_path)\n",
    "if pdf_reader.isEncrypted: # to check whether the pdf is encrypted or not\n",
    "    pdf_reader.decrypt(\"swordfish\")\n",
    "for page in pdf_reader.pages:\n",
    "    print(page.extractText()) # to print the text data of a page from pdf"
   ]
  },
  {
   "cell_type": "markdown",
   "id": "b99446e5",
   "metadata": {},
   "source": [
    "5. What methods do you use to rotate a page?\n",
    "\n",
    "__Ans__.\n",
    "- PyPDF2 Package provides 2 methods to rotate a page:\n",
    "\n",
    "- __rotateClockWise()__ -> For Clockwise rotation\n",
    "- __rotateCounterClockWise()__ -> For Counter Clockwise rotation\n",
    "\n",
    "The PyPDF2 package only allows you to rotate a page in increments of 90 degrees. You will receive an AssertionError otherwise."
   ]
  },
  {
   "cell_type": "markdown",
   "id": "1d9da49e",
   "metadata": {},
   "source": [
    "6. What is the difference between a Run object and a Paragraph object?\n",
    "\n",
    "__Ans__.\n",
    "- The structure of a document is represented by three different data types in python-Docx. At the highest level, a Document   object represents the entire document. The Document object contains a list of Paragraph objects for the paragraphs in       the document. (A new paragraph begins whenever the user presses ENTER or RETURN while typing in a Word document.) Each     of these Paragraph objects contains a list of one or more Run objects.\n",
    "\n",
    "- The text in a Word document is more than just a string. It has font, size, color, and other styling information             associated with it. A style in Word is a collection of these attributes. A Run object is a contiguous run of text with     the same style. A new Run object is needed whenever the text style changes.\n",
    "\n",
    "---"
   ]
  },
  {
   "cell_type": "markdown",
   "id": "fcc1bb4c",
   "metadata": {},
   "source": [
    "7. How do you obtain a list of Paragraph objects for a Document object that’s stored in a variable\n",
    "   named doc?"
   ]
  },
  {
   "cell_type": "code",
   "execution_count": null,
   "id": "cf5171b0",
   "metadata": {},
   "outputs": [],
   "source": [
    "# Example Program\n",
    "from docx import Document\n",
    "doc = Document(\"sample_file.docx\") # Path of the Docx file\n",
    "print(doc.paragraphs) # Prints the list of Paragraph objects for a Document\n",
    "for paragraph in doc.paragraphs:\n",
    "    print(paragraph.text) # Prints the text in the paragraph"
   ]
  },
  {
   "cell_type": "markdown",
   "id": "ce34853c",
   "metadata": {},
   "source": [
    "8. What type of object has bold, underline, italic, strike, and outline variables?\n",
    "\n",
    "__Ans__.\n",
    "\n",
    "-  __Run__ object has bold, underline, italic, strike, and outline variables. The text in a Word document is more than just a string. It has font, size, color, and other styling information associated with it.\n",
    "\n",
    "- A style in Word is a collection of these attributes. A Run object is a contiguous run of text with the same style. A new   Run object is needed whenever the text style changes"
   ]
  },
  {
   "cell_type": "markdown",
   "id": "0e339299",
   "metadata": {},
   "source": [
    "9. What is the difference between False, True, and None for the bold variable?"
   ]
  },
  {
   "cell_type": "code",
   "execution_count": null,
   "id": "ed7fd908",
   "metadata": {},
   "outputs": [],
   "source": [
    "bold = True  # Style Set to Bold\n",
    "bold = False # Style Not Set to Bold\n",
    "bold = None # Style is Not Applicable"
   ]
  },
  {
   "cell_type": "markdown",
   "id": "76e87669",
   "metadata": {},
   "source": [
    "10. How do you create a Document object for a new Word document?"
   ]
  },
  {
   "cell_type": "code",
   "execution_count": null,
   "id": "7a0bdb8f",
   "metadata": {},
   "outputs": [],
   "source": [
    "# Example Program\n",
    "from docx import Document\n",
    "document = Document()\n",
    "document.add_paragraph(\"iNeuron Full Stack DataScience Course\")\n",
    "document.save('mydocument.docx')\n"
   ]
  },
  {
   "cell_type": "markdown",
   "id": "b75ed86d",
   "metadata": {},
   "source": [
    "11. How do you add a paragraph with the text &#39;Hello, there!&#39; to a Document object stored in a\n",
    "    variable named doc?"
   ]
  },
  {
   "cell_type": "code",
   "execution_count": null,
   "id": "ff04b867",
   "metadata": {},
   "outputs": [],
   "source": [
    "# Example Program\n",
    "from docx import Document\n",
    "doc = Document()\n",
    "doc.add_paragraph('Hello, there!')\n",
    "doc.save('hello.docx')"
   ]
  },
  {
   "cell_type": "markdown",
   "id": "53afa7fa",
   "metadata": {},
   "source": [
    "12. What integers represent the levels of headings available in Word documents?\n",
    "\n",
    "__Ans__ \n",
    "- The levels for a heading in a word document can be specified by using the __level__ attribute inside the __add_heading__ method.   There are a total of 5 levels statring for 0 t0 4. where level 0 makes a headline with the horizontal line below the       text, whereas the heading level 1 is the main heading. Similarly, the other headings are sub-heading with their's font-     sizes in decreasing order.\n",
    "\n",
    "---"
   ]
  },
  {
   "cell_type": "code",
   "execution_count": null,
   "id": "7493eb85",
   "metadata": {},
   "outputs": [],
   "source": []
  }
 ],
 "metadata": {
  "kernelspec": {
   "display_name": "Python 3 (ipykernel)",
   "language": "python",
   "name": "python3"
  },
  "language_info": {
   "codemirror_mode": {
    "name": "ipython",
    "version": 3
   },
   "file_extension": ".py",
   "mimetype": "text/x-python",
   "name": "python",
   "nbconvert_exporter": "python",
   "pygments_lexer": "ipython3",
   "version": "3.9.7"
  }
 },
 "nbformat": 4,
 "nbformat_minor": 5
}
