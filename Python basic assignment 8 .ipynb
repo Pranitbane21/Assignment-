{
 "cells": [
  {
   "cell_type": "markdown",
   "id": "71e0a636",
   "metadata": {},
   "source": [
    "1. Is the Python Standard Library included with PyInputPlus?\n",
    "\n",
    "__Ans__. \n",
    "\n",
    "-  No, PyInputPlus is not a part of Python Standard Library, it needs to be installed explicitly using the command !pip install PyInputPlus.\n",
    "\n",
    "---"
   ]
  },
  {
   "cell_type": "markdown",
   "id": "cb1dc125",
   "metadata": {},
   "source": [
    "2. Why is PyInputPlus commonly imported with import pyinputplus as pypi?\n",
    "\n",
    "__Ans__.\n",
    "\n",
    "- You can import the module with import pyinputplus as pyip so that you can enter a shorter name when calling the module's   functions.\n",
    "\n",
    "---"
   ]
  },
  {
   "cell_type": "markdown",
   "id": "e658b105",
   "metadata": {},
   "source": [
    "3. How do you distinguish between inputInt() and inputFloat()?\n",
    "\n",
    "__Ans__.\n",
    "\n",
    "- inputInt() : Accepts an integer value. This also takes additional parameters 'min', 'max', 'greaterThan' and 'lessThan'     for bounds. Returns an int. \n",
    "- inputFloat() : Accepts a floating-point numeric value\n",
    "\n",
    "---"
   ]
  },
  {
   "cell_type": "markdown",
   "id": "a3546e7e",
   "metadata": {},
   "source": [
    "4. Using PyInputPlus, how do you ensure that the user enters a whole number between 0 and 99?\n",
    "\n",
    "__Ans__.\n",
    "\n",
    "- PyInputPlus module provides a function called as inputInt() which only returns only integer values. inorder to restrict the input between 0 and 99, i'ii use parameters like min & max to ensure that user enters the values between the defined range only.\n",
    "\n",
    "\n",
    "- import pyinputplus as pyip\n",
    "  \n",
    "  wholenumber = pyip.inputInt(prompt='Enter a number: ', min=0, max=100)\n",
    "  \n",
    "  print(wholenumber)\n",
    "  \n",
    "---"
   ]
  },
  {
   "cell_type": "markdown",
   "id": "e72ba2a2",
   "metadata": {},
   "source": [
    "5. What is transferred to the keyword arguments allowRegexes and blockRegexes?\n",
    "\n",
    "__Ans__.\n",
    "\n",
    "- We can use allowRegexes and blockRegexes keyword arguments to take list of regular expression strings to determine what     the pyinputplus function will reject or accept valid input.\n",
    "\n",
    "---"
   ]
  },
  {
   "cell_type": "markdown",
   "id": "4470c874",
   "metadata": {},
   "source": [
    "6. If a blank input is entered three times, what does inputStr(limit=3) do?\n",
    "\n",
    "__Ans__.\n",
    "\n",
    "- The statement inputStr(limit=3) will throw two exceptions ValidationException and RetryLimitException. The first exception is thrown because blank values are not allowed by inputStr() function by default. it we want to consider blank values as valid input, we have to set blank=True.\n",
    "\n",
    "- The second exception is occured because we have reached the max limit we have specified by using limit parameter. inorder   to avoid this exception we can use default parameter to return a default value when max limit is reached.\n",
    "\n",
    "---"
   ]
  },
  {
   "cell_type": "markdown",
   "id": "8f93c264",
   "metadata": {},
   "source": [
    "7. If blank input is entered three times, what does inputStr(limit=3, default=&#39;hello&#39;) do?\n",
    "\n",
    "__Ans__.\n",
    "\n",
    "- Since the default parameter is set to hello. after blank input is entered three times instead of raising               \n",
    "  RetryLimitException exception. the function will return hello as response to the calling function.\n",
    "\n",
    "---"
   ]
  },
  {
   "cell_type": "code",
   "execution_count": null,
   "id": "19f028f8",
   "metadata": {},
   "outputs": [],
   "source": []
  }
 ],
 "metadata": {
  "kernelspec": {
   "display_name": "Python 3 (ipykernel)",
   "language": "python",
   "name": "python3"
  },
  "language_info": {
   "codemirror_mode": {
    "name": "ipython",
    "version": 3
   },
   "file_extension": ".py",
   "mimetype": "text/x-python",
   "name": "python",
   "nbconvert_exporter": "python",
   "pygments_lexer": "ipython3",
   "version": "3.9.7"
  }
 },
 "nbformat": 4,
 "nbformat_minor": 5
}
