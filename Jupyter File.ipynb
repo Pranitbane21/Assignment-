{
 "cells": [
  {
   "cell_type": "markdown",
   "id": "7c8dae71",
   "metadata": {},
   "source": [
    "1. In the below elements which of them are values or an expression? eg:- values can be\n",
    "integer or string and expressions will be mathematical operators.\n",
    "\n",
    "Ans) * , - , /, + are expression and 'hello' ,-87.8 ,6 are values.\n",
    "\n"
   ]
  },
  {
   "cell_type": "markdown",
   "id": "9fb5ce70",
   "metadata": {},
   "source": [
    "2. What is the difference between string and variable?\n",
    "\n",
    "Ans)a)Variable is the name of the location in the primary memory, variable stores string to number everything.\n",
    "    \n",
    "    b)String is the characters inside quotes.example \"pranit\",\"name\",etc."
   ]
  },
  {
   "cell_type": "markdown",
   "id": "052966b0",
   "metadata": {},
   "source": [
    "3. Describe three different data types.\n",
    "Ans)\n",
    "   Three different data types are numeric, boolean, squence type.\n",
    "   a)Numeric data type :- represent data which as a numeric value , it is subdivided into Integers, float and complex value.\n",
    "   Interger :-1,3,45,56, etc.\n",
    "   Float:-2.0,4.5, 176.4, etc.\n",
    "   complex:- 4+56j,99+7k, etc.\n",
    "   b)Boolean data type:- represent data in two values True or False, Object which is correct as per requirment is ask or present    in that statement etc are True and does who are not present are False.\n",
    "   c)Sequence data type:-sequence is the ordered collection of similar or different data types. Sequences allows to store          multiple values in an organized fashion. Squence data types are 1) string(ex \"ineuron\")2)List(ex=[1,2,3,45] which is            mutable.3)Tuple(ex(1,2,4,5) is immutable."
   ]
  },
  {
   "cell_type": "markdown",
   "id": "b561977a",
   "metadata": {},
   "source": [
    "4. What are expression made up of? What do all epression do?\n",
    "Ans)a)Expression is made up of combination of values like operators, variable and functions.\n",
    "    b)expression always returns a result value."
   ]
  },
  {
   "cell_type": "markdown",
   "id": "3e828924",
   "metadata": {},
   "source": [
    "5. This assignment statements, like spam = 10. What is the difference between an expression and a statement?\n",
    "\n",
    "Ans) \n",
    "Above assignment statement is statement.\n",
    "1)Expression:-Evaluation of a expression always returns a result value. every expresiion can't be a statement.\n",
    "2)Statement:- Execution of a statement may or may not produces or displays a result value, it only does whatever the statement says. every statement can be a expression.\n",
    "\n",
    "6. After running the following code, what does the variable bacon contain?\n",
    "bacon = 22\n",
    "bacon + 1\n",
    "ans) Variable bacon contain 23, because +1 get added .\n",
    "\n",
    "7. What should the values of the following two terms be?\n",
    "'spam'+'spamspam'\n",
    "'spam'*3\n",
    "Ans) Both the terms have same value which is 'spamspamspam'\n",
    "\n",
    "8. Why eggs is a valid variable number while 100 is invalid?\n",
    "Ans) Variable name cannot start with a number.\n",
    "\n",
    "\n",
    "9. What three functions can be used to get integer,floating point number, 0r string version  of a value?\n",
    "Ans) int(), float(),str() are the three functions which evaluate the integer, floatinh point number and string version of a value respectively."
   ]
  },
  {
   "cell_type": "markdown",
   "id": "42663f22",
   "metadata": {},
   "source": [
    "10. Why this expression cause and error? and How can you fix it?\n",
    "'I have eaten' +99 +'burritos'\n",
    "Ans) Above expression can be fix by simply adding ' ' quotes around integer 99 which will convert it to a string . then all strings can be added.('I have eaten' +'99 '+'burritos')."
   ]
  },
  {
   "cell_type": "code",
   "execution_count": null,
   "id": "74e98ed3",
   "metadata": {},
   "outputs": [],
   "source": []
  }
 ],
 "metadata": {
  "kernelspec": {
   "display_name": "Python 3 (ipykernel)",
   "language": "python",
   "name": "python3"
  },
  "language_info": {
   "codemirror_mode": {
    "name": "ipython",
    "version": 3
   },
   "file_extension": ".py",
   "mimetype": "text/x-python",
   "name": "python",
   "nbconvert_exporter": "python",
   "pygments_lexer": "ipython3",
   "version": "3.9.7"
  }
 },
 "nbformat": 4,
 "nbformat_minor": 5
}
