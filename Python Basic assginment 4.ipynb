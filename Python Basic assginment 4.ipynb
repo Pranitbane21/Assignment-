{
 "cells": [
  {
   "cell_type": "markdown",
   "id": "d722a430",
   "metadata": {},
   "source": [
    "1. What exactly is [  ]?\n",
    "\n",
    "__Ans__\n",
    "-The empty list value, which is a list value that contains no items. This is similar to how '' is the empty string value.\n",
    "\n",
    "---"
   ]
  },
  {
   "cell_type": "markdown",
   "id": "4ede2b00",
   "metadata": {},
   "source": [
    "2. In a list of values stored in a variable called spam, how would you assign the value &#39;hello&#39; as the\n",
    "third value? (Assume [2, 4, 6, 8, 10] are in spam.)\n",
    "\n",
    "__Ans__\n",
    "- spam[2] = 'hello' (Notice that the third value in a list is at index 2 because the first index is 0.)\n",
    "\n",
    "---\n",
    "\n",
    " "
   ]
  },
  {
   "cell_type": "markdown",
   "id": "31f19688",
   "metadata": {},
   "source": [
    "3. What is the value of spam[int(int('3' * 2) / 11)]?\n",
    "\n",
    "__Ans__ Value of spam is 8.\n",
    "\n",
    "---\n"
   ]
  },
  {
   "cell_type": "markdown",
   "id": "2b28fa6a",
   "metadata": {},
   "source": [
    "4. What is the value of spam[-1]?\n",
    "\n",
    "__Ans__\n",
    "- Value of spam is 10 since negative index starts from the end.\n",
    "\n",
    "---"
   ]
  },
  {
   "cell_type": "markdown",
   "id": "698d5a7c",
   "metadata": {},
   "source": [
    "5. What is the value of spam[:2]? Let's pretend bacon has the list [3.14, &#39;cat,&#39; 11, &#39;cat,&#39; True] for the next three questions.\n",
    "\n",
    "__Ans__.\n",
    "- ['a', 'b']\n",
    "\n",
    "---\n"
   ]
  },
  {
   "cell_type": "markdown",
   "id": "f2fce7d3",
   "metadata": {},
   "source": [
    "6. What is the value of bacon.index(&#39;cat&#39;)?\n",
    "\n",
    "__Ans__. 1.\n",
    "\n",
    "---\n"
   ]
  },
  {
   "cell_type": "markdown",
   "id": "04aaafa2",
   "metadata": {},
   "source": [
    "7. How does bacon.append(99) change the look of the list value in bacon?\n",
    "\n",
    "__Ans__\n",
    "\n",
    "-  [3.14, 'cat', 11, 'cat', True, 99]\n",
    "---"
   ]
  },
  {
   "cell_type": "markdown",
   "id": "6b40be20",
   "metadata": {},
   "source": [
    "8. How does bacon.remove(&#39;cat&#39;) change the look of the list in bacon?\n",
    "\n",
    "__Ans__\n",
    "\n",
    "- [3.14, 11, 'cat', True, 99]\n",
    "\n",
    "---"
   ]
  },
  {
   "cell_type": "markdown",
   "id": "688a6130",
   "metadata": {},
   "source": [
    "9. What are the list concatenation and list replication operators?\n",
    "\n",
    "__Ans__\n",
    "- The operator for list concatenation is +, while the operator for replication is *.\n",
    "\n",
    "---"
   ]
  },
  {
   "cell_type": "markdown",
   "id": "158063eb",
   "metadata": {},
   "source": [
    "10. What is difference between the list methods append() and insert()?\n",
    "\n",
    "__Ans__\n",
    "- While append() will add values only to the end of a list, insert() can add them anywhere in the list.\n",
    "\n",
    "---"
   ]
  },
  {
   "cell_type": "markdown",
   "id": "74eeed80",
   "metadata": {},
   "source": [
    "11. What are the two methods for removing items from a list?\n",
    "\n",
    "__Ans__\n",
    "- The del statement and the remove() list method are two ways to remove values from a list.\n",
    "\n",
    "---"
   ]
  },
  {
   "cell_type": "markdown",
   "id": "c594b4fe",
   "metadata": {},
   "source": [
    "12. Describe how list values and string values are identical?\n",
    "\n",
    "__Ans__\n",
    "- Both lists and strings can be passed to len(), have indexes and slices, be used in for loops, be concatenated or replicated, and be used with the in and not in operators.\n",
    "\n",
    "---"
   ]
  },
  {
   "cell_type": "markdown",
   "id": "b1c0ffc5",
   "metadata": {},
   "source": [
    "13. What&#39;s the difference between tuples and lists?\n",
    "\n",
    "__Ans__\n",
    "- Lists are mutable; they can have values added, removed, or changed. Tuples are immutable; they cannot be changed at all. Also, tuples are written using parentheses, ( and ), while lists use the square brackets, [ and ].\n",
    "\n",
    "---\n",
    "\n"
   ]
  },
  {
   "cell_type": "markdown",
   "id": "b027b9e0",
   "metadata": {},
   "source": [
    "14. How do you type a tuple value that only contains the integer 42?\n",
    "\n",
    "__Ans__.\n",
    "- (42,) (The trailing comma is mandatory.)\n",
    "\n",
    "---"
   ]
  },
  {
   "cell_type": "markdown",
   "id": "e30402d5",
   "metadata": {},
   "source": [
    "15. How do you get a list value&#39;s tuple form? How do you get a tuple value&#39;s list form?\n",
    "\n",
    "__Ans__\n",
    "- The tuple() and list() functions, respectively\n",
    "\n",
    "---\n"
   ]
  },
  {
   "cell_type": "markdown",
   "id": "cc0a2789",
   "metadata": {},
   "source": [
    "16. Variables that &quot;contain&quot; list values are not necessarily lists themselves. Instead, what do they\n",
    "contain?\n",
    "\n",
    "__Ans__\n",
    "- They contain references to list values.\n",
    "\n",
    "---"
   ]
  },
  {
   "cell_type": "markdown",
   "id": "1d1963c2",
   "metadata": {},
   "source": [
    "17. How do you distinguish between copy.copy() and copy.deepcopy()?\n",
    "\n",
    "__Ans__\n",
    "- The copy.copy() function will do a shallow copy of a list, while the copy.deepcopy() function will do a deep copy of a list. That is, only copy.deepcopy() will duplicate any lists inside the list.\n",
    "\n",
    "---"
   ]
  },
  {
   "cell_type": "code",
   "execution_count": null,
   "id": "f286fc08",
   "metadata": {},
   "outputs": [],
   "source": []
  }
 ],
 "metadata": {
  "kernelspec": {
   "display_name": "Python 3 (ipykernel)",
   "language": "python",
   "name": "python3"
  },
  "language_info": {
   "codemirror_mode": {
    "name": "ipython",
    "version": 3
   },
   "file_extension": ".py",
   "mimetype": "text/x-python",
   "name": "python",
   "nbconvert_exporter": "python",
   "pygments_lexer": "ipython3",
   "version": "3.9.7"
  }
 },
 "nbformat": 4,
 "nbformat_minor": 5
}
